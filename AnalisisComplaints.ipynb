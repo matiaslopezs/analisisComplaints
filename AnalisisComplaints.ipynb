{
  "nbformat": 4,
  "nbformat_minor": 0,
  "metadata": {
    "colab": {
      "name": "AnalisisComplaints.ipynb",
      "provenance": [],
      "collapsed_sections": [],
      "include_colab_link": true
    },
    "kernelspec": {
      "name": "python3",
      "display_name": "Python 3"
    },
    "language_info": {
      "name": "python"
    }
  },
  "cells": [
    {
      "cell_type": "markdown",
      "metadata": {
        "id": "view-in-github",
        "colab_type": "text"
      },
      "source": [
        "<a href=\"https://colab.research.google.com/github/matiaslopezs/analisisComplaints/blob/main/AnalisisComplaints.ipynb\" target=\"_parent\"><img src=\"https://colab.research.google.com/assets/colab-badge.svg\" alt=\"Open In Colab\"/></a>"
      ]
    },
    {
      "cell_type": "code",
      "source": [
        "import pandas as pd\n",
        "pd.set_option('display.max_columns', None) #MOSTRAR TODAS LAS COLUMNAS"
      ],
      "metadata": {
        "id": "UzdwtKQ9vMmW"
      },
      "execution_count": 1,
      "outputs": []
    },
    {
      "cell_type": "markdown",
      "source": [
        "Records dataframe"
      ],
      "metadata": {
        "id": "jv62LYGW7B7-"
      }
    },
    {
      "cell_type": "code",
      "source": [
        "!gdown --id 1PGecRbbl4KlQ9SWvuZ9ekH1cjy4fwTf2 "
      ],
      "metadata": {
        "colab": {
          "base_uri": "https://localhost:8080/"
        },
        "id": "z7hIycXw6PT4",
        "outputId": "a0f2e9c6-c0fe-4217-d639-1752830945f9"
      },
      "execution_count": 2,
      "outputs": [
        {
          "output_type": "stream",
          "name": "stdout",
          "text": [
            "/usr/local/lib/python3.7/dist-packages/gdown/cli.py:131: FutureWarning: Option `--id` was deprecated in version 4.3.1 and will be removed in 5.0. You don't need to pass it anymore to use a file ID.\n",
            "  category=FutureWarning,\n",
            "Downloading...\n",
            "From: https://drive.google.com/uc?id=1PGecRbbl4KlQ9SWvuZ9ekH1cjy4fwTf2\n",
            "To: /content/ComplaintsUnificado.csv\n",
            "100% 3.45M/3.45M [00:00<00:00, 200MB/s]\n"
          ]
        }
      ]
    },
    {
      "cell_type": "code",
      "source": [
        "!gdown --id 1Pu75kONToz6MiTxuDCoMRBRG3SBKBVO8\n",
        "!gdown --id 1DeJebO2PtHQ10CFzOS1fCNs2bCSZ5T7j\n",
        "!gdown --id 1CuDTzC-zJWG3bKnSO2DJ5shi2_-A1ys8\n",
        "!gdown --id 1FPNWBL6Ecgm4suqql_HZcrShzMReJvOe\n",
        "!gdown --id 1xUMO3uCn9sGjt9yQanZW7puiNr9n6HK0\n",
        "!gdown --id 1ODoDzFZKi5wCgkDFLLyxoKTESgy8ajET\n",
        "!gdown --id 16psIXMtkmqE_pMg208F6zbL26NcBiK4X"
      ],
      "metadata": {
        "id": "AuyPahC_7GaV",
        "outputId": "573cca24-01a8-42b8-dff0-0a2a01ed364a",
        "colab": {
          "base_uri": "https://localhost:8080/"
        }
      },
      "execution_count": 3,
      "outputs": [
        {
          "output_type": "stream",
          "name": "stdout",
          "text": [
            "/usr/local/lib/python3.7/dist-packages/gdown/cli.py:131: FutureWarning: Option `--id` was deprecated in version 4.3.1 and will be removed in 5.0. You don't need to pass it anymore to use a file ID.\n",
            "  category=FutureWarning,\n",
            "Downloading...\n",
            "From: https://drive.google.com/uc?id=1Pu75kONToz6MiTxuDCoMRBRG3SBKBVO8\n",
            "To: /content/records2017.csv\n",
            "100% 15.5M/15.5M [00:00<00:00, 108MB/s] \n",
            "/usr/local/lib/python3.7/dist-packages/gdown/cli.py:131: FutureWarning: Option `--id` was deprecated in version 4.3.1 and will be removed in 5.0. You don't need to pass it anymore to use a file ID.\n",
            "  category=FutureWarning,\n",
            "Downloading...\n",
            "From: https://drive.google.com/uc?id=1DeJebO2PtHQ10CFzOS1fCNs2bCSZ5T7j\n",
            "To: /content/records2018.csv\n",
            "100% 15.0M/15.0M [00:00<00:00, 107MB/s] \n",
            "/usr/local/lib/python3.7/dist-packages/gdown/cli.py:131: FutureWarning: Option `--id` was deprecated in version 4.3.1 and will be removed in 5.0. You don't need to pass it anymore to use a file ID.\n",
            "  category=FutureWarning,\n",
            "Downloading...\n",
            "From: https://drive.google.com/uc?id=1CuDTzC-zJWG3bKnSO2DJ5shi2_-A1ys8\n",
            "To: /content/records2019.csv\n",
            "100% 34.9M/34.9M [00:00<00:00, 161MB/s]\n",
            "/usr/local/lib/python3.7/dist-packages/gdown/cli.py:131: FutureWarning: Option `--id` was deprecated in version 4.3.1 and will be removed in 5.0. You don't need to pass it anymore to use a file ID.\n",
            "  category=FutureWarning,\n",
            "Downloading...\n",
            "From: https://drive.google.com/uc?id=1FPNWBL6Ecgm4suqql_HZcrShzMReJvOe\n",
            "To: /content/records2020.csv\n",
            "100% 11.7M/11.7M [00:00<00:00, 68.6MB/s]\n",
            "/usr/local/lib/python3.7/dist-packages/gdown/cli.py:131: FutureWarning: Option `--id` was deprecated in version 4.3.1 and will be removed in 5.0. You don't need to pass it anymore to use a file ID.\n",
            "  category=FutureWarning,\n",
            "Downloading...\n",
            "From: https://drive.google.com/uc?id=1xUMO3uCn9sGjt9yQanZW7puiNr9n6HK0\n",
            "To: /content/records2021.csv\n",
            "100% 12.7M/12.7M [00:00<00:00, 56.1MB/s]\n",
            "/usr/local/lib/python3.7/dist-packages/gdown/cli.py:131: FutureWarning: Option `--id` was deprecated in version 4.3.1 and will be removed in 5.0. You don't need to pass it anymore to use a file ID.\n",
            "  category=FutureWarning,\n",
            "Downloading...\n",
            "From: https://drive.google.com/uc?id=1ODoDzFZKi5wCgkDFLLyxoKTESgy8ajET\n",
            "To: /content/records2022.csv\n",
            "100% 15.1M/15.1M [00:00<00:00, 91.2MB/s]\n",
            "/usr/local/lib/python3.7/dist-packages/gdown/cli.py:131: FutureWarning: Option `--id` was deprecated in version 4.3.1 and will be removed in 5.0. You don't need to pass it anymore to use a file ID.\n",
            "  category=FutureWarning,\n",
            "Downloading...\n",
            "From: https://drive.google.com/uc?id=16psIXMtkmqE_pMg208F6zbL26NcBiK4X\n",
            "To: /content/Intervenients Unificado.csv\n",
            "100% 4.65M/4.65M [00:00<00:00, 25.6MB/s]\n"
          ]
        }
      ]
    },
    {
      "cell_type": "markdown",
      "source": [
        "Cargamos los complains y records por año en varios dataframes"
      ],
      "metadata": {
        "id": "PFJQOsuKweEw"
      }
    },
    {
      "cell_type": "code",
      "source": [
        "df_complains = pd.read_csv('ComplaintsUnificado.csv')\n",
        "df_interv = pd.read_csv('Intervenients Unificado.csv')\n",
        "df_records_2017 = pd.read_csv('records2017.csv')\n",
        "df_records_2018 = pd.read_csv('records2018.csv')\n",
        "df_records_2019 = pd.read_csv('records2019.csv')\n",
        "df_records_2020 = pd.read_csv('records2020.csv')\n",
        "df_records_2021 = pd.read_csv('records2021.csv')\n",
        "df_records_2022 = pd.read_csv('records2022.csv')"
      ],
      "metadata": {
        "id": "BoGwPfHwvjDP",
        "colab": {
          "base_uri": "https://localhost:8080/"
        },
        "outputId": "408d4bd1-ebee-4dca-b2f0-66a67a5d9db8"
      },
      "execution_count": 4,
      "outputs": [
        {
          "output_type": "stream",
          "name": "stderr",
          "text": [
            "/usr/local/lib/python3.7/dist-packages/IPython/core/interactiveshell.py:2882: DtypeWarning: Columns (60,61,62,63) have mixed types.Specify dtype option on import or set low_memory=False.\n",
            "  exec(code_obj, self.user_global_ns, self.user_ns)\n"
          ]
        }
      ]
    },
    {
      "cell_type": "markdown",
      "source": [
        "Unimos los dataframes de records y mergeamos los datos de complaints"
      ],
      "metadata": {
        "id": "bTvnWG8Pwj9i"
      }
    },
    {
      "cell_type": "code",
      "source": [
        "df_records = pd.concat([df_records_2017, df_records_2018,df_records_2019, df_records_2020, df_records_2021, df_records_2022], axis=0, ignore_index=True)\n",
        "complaints_merge = df_complains.merge(df_records,on='compiledRelease/id',how='left')"
      ],
      "metadata": {
        "id": "2ryDMxPlwowO"
      },
      "execution_count": 5,
      "outputs": []
    },
    {
      "cell_type": "markdown",
      "source": [
        "verificamos que las filas sean unicas"
      ],
      "metadata": {
        "id": "k7MEdmfPm9wt"
      }
    },
    {
      "cell_type": "code",
      "source": [
        "df_records['compiledRelease/id'].value_counts()"
      ],
      "metadata": {
        "id": "HKmfWWQIm-h-",
        "outputId": "0b5d9152-ca81-461c-cc5b-a61e77a049b0",
        "colab": {
          "base_uri": "https://localhost:8080/"
        }
      },
      "execution_count": 6,
      "outputs": [
        {
          "output_type": "execute_result",
          "data": {
            "text/plain": [
              "401119-adquisicion-combustibles-uso-institucional-municipalidad-dr-juan-eulogio-estigarribi-2-1629382617          2\n",
              "ocds-03ad3f-282786-2017-01-26T15:55:24-04:00                                                                      1\n",
              "383151-1591180714                                                                                                 1\n",
              "382980-adquisicion-servicio-provision-distribucion-kits-alimentos-no-perecederos-como-modal-1-1593599450.37818    1\n",
              "373531-construccion-pavimento-tipo-empedrado-km-14-monday-18-monday-19-acaray-20-monday-21-1-1594044136.46992     1\n",
              "                                                                                                                 ..\n",
              "346923-adquisicion-uniformes-personal-servicios-seguridad-equipos-proteccion-laboratorios-1-1554798795.44812      1\n",
              "359320-adquisicion-productos-papel-elaborados-criterios-procesos-sustentabilidad-1-1554917484                     1\n",
              "357470-reparacion-mejoramiento-terminal-omnibus-curuguaty-1-1556208764                                            1\n",
              "357911-adquisicion-motobomba-agua-1-1554370631                                                                    1\n",
              "410497-1657793933.53664                                                                                           1\n",
              "Name: compiledRelease/id, Length: 97986, dtype: int64"
            ]
          },
          "metadata": {},
          "execution_count": 6
        }
      ]
    },
    {
      "cell_type": "code",
      "source": [
        "complaints_merge['compiledRelease/complaints/0/id'].value_counts()"
      ],
      "metadata": {
        "id": "WgtSJhGnnFwq",
        "outputId": "005cd7fa-9ecd-45ac-8e88-7652946b5157",
        "colab": {
          "base_uri": "https://localhost:8080/"
        }
      },
      "execution_count": 7,
      "outputs": [
        {
          "output_type": "execute_result",
          "data": {
            "text/plain": [
              "153.0     9\n",
              "193.0     8\n",
              "134.0     8\n",
              "159.0     8\n",
              "199.0     8\n",
              "         ..\n",
              "1515.0    1\n",
              "1740.0    1\n",
              "1661.0    1\n",
              "1547.0    1\n",
              "1652.0    1\n",
              "Name: compiledRelease/complaints/0/id, Length: 1816, dtype: int64"
            ]
          },
          "metadata": {},
          "execution_count": 7
        }
      ]
    },
    {
      "cell_type": "code",
      "source": [
        "complaints_merge['compiledRelease/id'].value_counts()"
      ],
      "metadata": {
        "id": "UCd-cnlTnIyP",
        "outputId": "a5510d06-047d-4f22-d9b9-4a4e2234d4ba",
        "colab": {
          "base_uri": "https://localhost:8080/"
        }
      },
      "execution_count": 8,
      "outputs": [
        {
          "output_type": "execute_result",
          "data": {
            "text/plain": [
              "339040-lpn-122-17-adquisicion-insumos-generales-ips-ad-referendum-2018-1-1657032536.27286                       24\n",
              "354118-cursos-capacitacion-laboral-plurianual-1-1544811700                                                      21\n",
              "392633-lpn-sbe-46-21-adquisicion-medicamentos-biologicos-biotecnologicos-oncologicos-e-inmu-1-1657640076        21\n",
              "333964-lp1335-17-servicio-despachos-aduaneros-modalidad-contrato-abierto-ad-referendum-1-1593605937.016         21\n",
              "371093-cursos-capacitacion-laboral-plurianual-1-1624370575.08077                                                20\n",
              "                                                                                                                ..\n",
              "339425-servicio-transporte-materia-prima-cantera-trituradora-principal-fca-vallemi-1-1566641635                  1\n",
              "330982-adquisicion-equipos-oficina-senasa-1-1567110945                                                           1\n",
              "333197-construccion-canal-lateral-pbc-reparacion-empedrado-muro-contencion-pbc-alcantarilla-1-1566579660         1\n",
              "355814-adquisicion-periodicos-1-1565347018                                                                       1\n",
              "415088-provision-almuerzo-escolar-modalidad-alimentos-preparados-instituciones-educativas-1-1657800535.37785     1\n",
              "Name: compiledRelease/id, Length: 4457, dtype: int64"
            ]
          },
          "metadata": {},
          "execution_count": 8
        }
      ]
    },
    {
      "cell_type": "markdown",
      "source": [
        "verificamos que una impugnación no tenga el mismo complaint dos veces (que no hayan repetidos)"
      ],
      "metadata": {
        "id": "lehG1vyOnMNE"
      }
    },
    {
      "cell_type": "code",
      "source": [
        "# complaints_merge.groupby('compiledRelease/id')['compiledRelease/complaints/0/id'].nunique()\n",
        "complaints_merge[\"idsconcat\"] = complaints_merge['compiledRelease/id'].astype(str) +\"-\"+ complaints_merge[\"compiledRelease/complaints/0/id\"].astype(str)"
      ],
      "metadata": {
        "id": "V4ihcf1anOhx"
      },
      "execution_count": 9,
      "outputs": []
    },
    {
      "cell_type": "code",
      "source": [
        "complaints_merge[\"idsconcat\"].value_counts()"
      ],
      "metadata": {
        "id": "GXqIkOi-oOME",
        "outputId": "1e25b7d3-c32e-4bca-b8b8-998f7061a555",
        "colab": {
          "base_uri": "https://localhost:8080/"
        }
      },
      "execution_count": 10,
      "outputs": [
        {
          "output_type": "execute_result",
          "data": {
            "text/plain": [
              "310567-provision-almuerzo-escolar-escuelas-ciudad-san-lorenzo-1-1483429264-595.0                                      1\n",
              "397292-provision-alimentos-bebidas-alcohol-agentes-electorales-cumplimiento-dispuesto-art-1-1635407852.976-473.0      1\n",
              "376792-lpn-n-02-2020-adquisicion-equipos-informaticos-sbe-ad-referendum-1-1633513473.12875-1067.0                     1\n",
              "396288-adquisicion-repuestos-accesorios-menores-vehiculos-1-1634803503.775-547.0                                      1\n",
              "339735-lpn-14-18-diseno-construccion-centro-medicina-fisica-rehabilitacion-psicologia-salud-1-1634830328.564-745.0    1\n",
              "                                                                                                                     ..\n",
              "352207-adquisicion-pet-coke-petroleo-fabrica-vallemi-1-1566889743-1215.0                                              1\n",
              "338407-adquisicion-ascensor-vidriado-area-publica-aisp-1-1566904392-364.0                                             1\n",
              "286313-senalizacion-carteles-varios-1-1566755460-61.0                                                                 1\n",
              "355384-adquisicion-mobiliarios-equipos-tecnologicos-25-instituciones-educativas-20-supervis-1-1566833532-676.0        1\n",
              "nan-nan                                                                                                               1\n",
              "Name: idsconcat, Length: 7344, dtype: int64"
            ]
          },
          "metadata": {},
          "execution_count": 10
        }
      ]
    },
    {
      "cell_type": "markdown",
      "source": [
        "Complaints por tipo de protesta"
      ],
      "metadata": {
        "id": "BiLKzPXtbtxF"
      }
    },
    {
      "cell_type": "code",
      "source": [
        "complaints_merge.groupby(['compiledRelease/complaints/0/type'])['compiledRelease/complaints/0/type'] \\\n",
        "                             .count() \\\n",
        "                             .reset_index(name='Cuenta') \\\n",
        "                             .sort_values(['Cuenta'], ascending=False) \\\n",
        "                             .head(5)"
      ],
      "metadata": {
        "id": "sWpI2VjzCBN_"
      },
      "execution_count": null,
      "outputs": []
    },
    {
      "cell_type": "markdown",
      "source": [
        "Complaints por convocante (investigar campo: compiledRelease/buyer/name)"
      ],
      "metadata": {
        "id": "BaQrTSUSbzg2"
      }
    },
    {
      "cell_type": "code",
      "source": [
        "complaints_merge.groupby(['compiledRelease/tender/procuringEntity/name'])['compiledRelease/tender/procuringEntity/name'] \\\n",
        "                             .count() \\\n",
        "                             .reset_index(name='Cuenta') \\\n",
        "                             .sort_values(['Cuenta'], ascending=False) \\\n",
        "                             .head(10)"
      ],
      "metadata": {
        "id": "vH_bxsVqFYp1"
      },
      "execution_count": null,
      "outputs": []
    },
    {
      "cell_type": "markdown",
      "source": [
        "Complaints por estado"
      ],
      "metadata": {
        "id": "jSsrnuGzeIPo"
      }
    },
    {
      "cell_type": "code",
      "source": [
        "complaints_merge['compiledRelease/complaints/0/status'].value_counts()"
      ],
      "metadata": {
        "colab": {
          "base_uri": "https://localhost:8080/"
        },
        "id": "lyFD4L49bnSD",
        "outputId": "4799e7c9-9b7d-4d3f-fe93-3295403211a7"
      },
      "execution_count": 13,
      "outputs": [
        {
          "output_type": "execute_result",
          "data": {
            "text/plain": [
              "Resuelto             5228\n",
              "Rechazo in limine    1894\n",
              "En trámite            101\n",
              "Duplicado              69\n",
              "Tramitado              31\n",
              "Acumulado              17\n",
              "Archivado               3\n",
              "Name: compiledRelease/complaints/0/status, dtype: int64"
            ]
          },
          "metadata": {},
          "execution_count": 13
        }
      ]
    },
    {
      "cell_type": "markdown",
      "source": [
        "Complaints por modalidad"
      ],
      "metadata": {
        "id": "4Pji63f45PkQ"
      }
    },
    {
      "cell_type": "code",
      "source": [
        "complaints_merge['compiledRelease/tender/procurementMethodDetails'].value_counts()"
      ],
      "metadata": {
        "id": "C9YAdq87CN_L",
        "outputId": "76cbe10b-90d6-4b8e-bbff-5c42fc03cfca",
        "colab": {
          "base_uri": "https://localhost:8080/"
        }
      },
      "execution_count": 14,
      "outputs": [
        {
          "output_type": "execute_result",
          "data": {
            "text/plain": [
              "Licitación Pública Nacional                                                                   4222\n",
              "Concurso de Ofertas                                                                           1455\n",
              "Contratación Directa                                                                          1209\n",
              "Licitación Pública Internacional                                                               249\n",
              "Contratación por Excepción                                                                     117\n",
              "BID - Licitación Internacional                                                                  21\n",
              "LPN_SBE_DNCP_BID - LICITACIÓN PUBLICA NACIONAL POR SBE SISTEMA NACIONAL BID BIENES COMUNES      11\n",
              "Acuerdo Nacional                                                                                10\n",
              "BID - Licitación Pública Nacional                                                                6\n",
              "BM - Licitación Pública Internacional - LPI                                                      6\n",
              "BID - Concurso de Ofertas (CO/CP)                                                                5\n",
              "Concurso de Ofertas                                                                              4\n",
              "Selección sobre la base la comparación de las calificaciones                                     3\n",
              "BM - Licitación Pública Nacional - LPN                                                           3\n",
              "Locación de Inmuebles                                                                            3\n",
              "BM - Concurso de Ofertas - CO                                                                    2\n",
              "Selección basada en la calidad y el costo                                                        2\n",
              "BM - Contratación Directa - CD                                                                   1\n",
              "Selección basada en el menor costo                                                               1\n",
              "BID - Contratación Directa (CD/SD)                                                               1\n",
              "Name: compiledRelease/tender/procurementMethodDetails, dtype: int64"
            ]
          },
          "metadata": {},
          "execution_count": 14
        }
      ]
    },
    {
      "cell_type": "markdown",
      "source": [
        "Por estado de licitacion"
      ],
      "metadata": {
        "id": "OVGJH4u7CZnU"
      }
    },
    {
      "cell_type": "code",
      "source": [
        "complaints_merge['compiledRelease/tender/statusDetails'].value_counts()"
      ],
      "metadata": {
        "id": "C9ju7EDTYeoZ",
        "outputId": "aaa0bbc5-2d3d-4fbb-92f3-0e4b2ce25075",
        "colab": {
          "base_uri": "https://localhost:8080/"
        }
      },
      "execution_count": 15,
      "outputs": [
        {
          "output_type": "execute_result",
          "data": {
            "text/plain": [
              "Adjudicada                   6373\n",
              "Anulada o Cancelada           490\n",
              "En Evaluacion (Cerrada)       188\n",
              "Desierta                      165\n",
              "En Convocatoria (Abierta)      58\n",
              "Suspendida                     52\n",
              "Inconsistente                   4\n",
              "Precalificado                   1\n",
              "Name: compiledRelease/tender/statusDetails, dtype: int64"
            ]
          },
          "metadata": {},
          "execution_count": 15
        }
      ]
    },
    {
      "cell_type": "markdown",
      "source": [
        "Por tipo de solicitud"
      ],
      "metadata": {
        "id": "Luq_6eZ3Zl6e"
      }
    },
    {
      "cell_type": "code",
      "source": [
        "complaints_merge['compiledRelease/tender/mainProcurementCategory'].value_counts()"
      ],
      "metadata": {
        "id": "Nk5B6Tk-YqZn",
        "outputId": "7c93e5e5-8ae3-4bfd-ba23-0e0e14b53bd4",
        "colab": {
          "base_uri": "https://localhost:8080/"
        }
      },
      "execution_count": 16,
      "outputs": [
        {
          "output_type": "execute_result",
          "data": {
            "text/plain": [
              "goods       3795\n",
              "services    2514\n",
              "works       1022\n",
              "Name: compiledRelease/tender/mainProcurementCategory, dtype: int64"
            ]
          },
          "metadata": {},
          "execution_count": 16
        }
      ]
    },
    {
      "cell_type": "markdown",
      "source": [
        "Por descripcion de solicitud"
      ],
      "metadata": {
        "id": "XrJcn2Y-Zogn"
      }
    },
    {
      "cell_type": "code",
      "source": [
        "complaints_merge['compiledRelease/tender/mainProcurementCategoryDetails'].value_counts()"
      ],
      "metadata": {
        "id": "sHfTgoLpCpRj",
        "outputId": "01eef25e-5d00-4f33-800d-810cacc43c8f",
        "colab": {
          "base_uri": "https://localhost:8080/"
        }
      },
      "execution_count": 17,
      "outputs": [
        {
          "output_type": "execute_result",
          "data": {
            "text/plain": [
              "Obras - Construcción, Restauración, Reconstrucción o Remodelación y Reparación de Inmuebles                                              1022\n",
              "Bienes - Equipos, Productos e instrumentales Médicos y de Laboratorio. Servicios asistenciales de salud                                   979\n",
              "Servicios - Servicios de Limpiezas, Mantenimientos y reparaciones menores y mayores de Instalaciones, Maquinarias y Vehículos             905\n",
              "Bienes - Equipos, accesorios y programas computacionales, de oficina, educativos, de imprenta, de comunicación y señalamiento             884\n",
              "Servicios - Servicios de ceremonial, gastronomico y funerarios                                                                            624\n",
              "Bienes - Productos Alimenticios                                                                                                           394\n",
              "Servicios - Servicios Técnicos                                                                                                            363\n",
              "Bienes - Maquinarias, Equipos y herramientas mayores - Equipos de transporte                                                              333\n",
              "Bienes - Utiles de oficina, Productos de papel y cartón e impresos                                                                        251\n",
              "Consultoria - Consultorías, Asesorías e Investigaciones. Estudios y Proyectos de inversión                                                217\n",
              "Servicios - Seguros                                                                                                                       194\n",
              "Bienes - Materiales e insumos eléctricos, metálicos y no metálicos, Plásticos, cauchos. Repuestos, herramientas, cámaras y cubiertas.     166\n",
              "Bienes - Muebles y Enseres                                                                                                                159\n",
              "Servicios - Equipos Militares y de Seguridad. Servicio de Seguridad y Vigilancia                                                          153\n",
              "Bienes - Textiles, vestuarios y calzados                                                                                                  125\n",
              "Servicios - Equipos, Productos e instrumentales Médicos y de Laboratorio. Servicios asistenciales de salud                                107\n",
              "Bienes - Equipos Militares y de Seguridad. Servicio de Seguridad y Vigilancia                                                              82\n",
              "Servicios - Capacitaciones y Adiestramientos                                                                                               63\n",
              "Servicios - Pasajes y Transportes                                                                                                          59\n",
              "Bienes - Productos quimicos                                                                                                                56\n",
              "Servicios - Publicidad y Propaganda                                                                                                        51\n",
              "Bienes - Elementos e insumos de limpieza                                                                                                   39\n",
              "Bienes - Combustibles y Lubricantes                                                                                                        26\n",
              "Locación Muebles - Adquisición y Locación de inmuebles. Alquiler de muebles                                                                25\n",
              "Bienes - Minerales                                                                                                                         21\n",
              "Bienes - Utensilios de cocina y comedor, Productos de Porcelana, vidrio y loza                                                             11\n",
              "Bienes - Bienes e insumos agropecuario y forestal                                                                                           9\n",
              "Servicios - Adquisición y Locación de inmuebles. Alquiler de muebles                                                                        8\n",
              "Locación Inmuebles - Adquisición y Locación de inmuebles. Alquiler de muebles                                                               4\n",
              "Consultorías, Asesorías e Investigaciones. Estudios y Proyectos de inversión                                                                1\n",
              "Name: compiledRelease/tender/mainProcurementCategoryDetails, dtype: int64"
            ]
          },
          "metadata": {},
          "execution_count": 17
        }
      ]
    },
    {
      "cell_type": "markdown",
      "source": [
        "Cantidad de protesta por protestante"
      ],
      "metadata": {
        "id": "3LmcoyfomJzQ"
      }
    },
    {
      "cell_type": "code",
      "source": [
        "options = ['claimant'] # selecting rows based on condition \n",
        "interv_just_claimants = df_interv[df_interv['compiledRelease/complaints/0/intervenients/0/roles'].isin(options)]\n",
        "interv_just_claimants['compiledRelease/complaints/0/intervenients/0/name'].value_counts()"
      ],
      "metadata": {
        "id": "v4_zcGxSmNwl",
        "outputId": "0dfa88d6-f69f-4c18-eb07-5e14a4895210",
        "colab": {
          "base_uri": "https://localhost:8080/"
        }
      },
      "execution_count": 31,
      "outputs": [
        {
          "output_type": "execute_result",
          "data": {
            "text/plain": [
              "DATA LAB SA                                   156\n",
              "MASTER SOFT PARAGUAY SRL                      108\n",
              "LAKMI S.A.                                     83\n",
              "DATA SYSTEMS SA EMISORA DE CAPITAL ABIERTO     81\n",
              "EUROQUIMICA S.A.                               75\n",
              "                                             ... \n",
              "M.C.N. SRL                                      1\n",
              "DOMINGO ALEJANDRO LEIVA RIVERA                  1\n",
              "C.A.O. S.R.L.                                   1\n",
              "CALTEC S.R.L.                                   1\n",
              "EOS S.R.L.                                      1\n",
              "Name: compiledRelease/complaints/0/intervenients/0/name, Length: 2354, dtype: int64"
            ]
          },
          "metadata": {},
          "execution_count": 31
        }
      ]
    }
  ]
}