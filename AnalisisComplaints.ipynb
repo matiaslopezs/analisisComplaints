{
  "nbformat": 4,
  "nbformat_minor": 0,
  "metadata": {
    "colab": {
      "name": "AnalisisComplaints.ipynb",
      "provenance": [],
      "collapsed_sections": [],
      "include_colab_link": true
    },
    "kernelspec": {
      "name": "python3",
      "display_name": "Python 3"
    },
    "language_info": {
      "name": "python"
    }
  },
  "cells": [
    {
      "cell_type": "markdown",
      "metadata": {
        "id": "view-in-github",
        "colab_type": "text"
      },
      "source": [
        "<a href=\"https://colab.research.google.com/github/matiaslopezs/analisisComplaints/blob/main/AnalisisComplaints.ipynb\" target=\"_parent\"><img src=\"https://colab.research.google.com/assets/colab-badge.svg\" alt=\"Open In Colab\"/></a>"
      ]
    },
    {
      "cell_type": "code",
      "source": [
        "import pandas as pd"
      ],
      "metadata": {
        "id": "UzdwtKQ9vMmW"
      },
      "execution_count": 30,
      "outputs": []
    },
    {
      "cell_type": "markdown",
      "source": [
        "Records dataframe"
      ],
      "metadata": {
        "id": "jv62LYGW7B7-"
      }
    },
    {
      "cell_type": "code",
      "source": [
        "!gdown --id 1PGecRbbl4KlQ9SWvuZ9ekH1cjy4fwTf2 "
      ],
      "metadata": {
        "colab": {
          "base_uri": "https://localhost:8080/"
        },
        "id": "z7hIycXw6PT4",
        "outputId": "7e446f0b-9872-460b-919f-e448e0e90e21"
      },
      "execution_count": 31,
      "outputs": [
        {
          "output_type": "stream",
          "name": "stdout",
          "text": [
            "/usr/local/lib/python3.7/dist-packages/gdown/cli.py:131: FutureWarning: Option `--id` was deprecated in version 4.3.1 and will be removed in 5.0. You don't need to pass it anymore to use a file ID.\n",
            "  category=FutureWarning,\n",
            "Downloading...\n",
            "From: https://drive.google.com/uc?id=1PGecRbbl4KlQ9SWvuZ9ekH1cjy4fwTf2\n",
            "To: /content/ComplaintsUnificado.csv\n",
            "100% 3.45M/3.45M [00:00<00:00, 45.1MB/s]\n"
          ]
        }
      ]
    },
    {
      "cell_type": "code",
      "source": [
        "!gdown --id 1Pu75kONToz6MiTxuDCoMRBRG3SBKBVO8\n",
        "!gdown --id 1DeJebO2PtHQ10CFzOS1fCNs2bCSZ5T7j\n",
        "!gdown --id 1CuDTzC-zJWG3bKnSO2DJ5shi2_-A1ys8\n",
        "!gdown --id 1FPNWBL6Ecgm4suqql_HZcrShzMReJvOe\n",
        "!gdown --id 1xUMO3uCn9sGjt9yQanZW7puiNr9n6HK0\n",
        "!gdown --id 1ODoDzFZKi5wCgkDFLLyxoKTESgy8ajET"
      ],
      "metadata": {
        "id": "AuyPahC_7GaV",
        "outputId": "e89d0177-6996-4e7f-d28b-36f4abbf6d32",
        "colab": {
          "base_uri": "https://localhost:8080/"
        }
      },
      "execution_count": 32,
      "outputs": [
        {
          "output_type": "stream",
          "name": "stdout",
          "text": [
            "/usr/local/lib/python3.7/dist-packages/gdown/cli.py:131: FutureWarning: Option `--id` was deprecated in version 4.3.1 and will be removed in 5.0. You don't need to pass it anymore to use a file ID.\n",
            "  category=FutureWarning,\n",
            "Downloading...\n",
            "From: https://drive.google.com/uc?id=1Pu75kONToz6MiTxuDCoMRBRG3SBKBVO8\n",
            "To: /content/records2017.csv\n",
            "100% 15.5M/15.5M [00:00<00:00, 270MB/s]\n",
            "/usr/local/lib/python3.7/dist-packages/gdown/cli.py:131: FutureWarning: Option `--id` was deprecated in version 4.3.1 and will be removed in 5.0. You don't need to pass it anymore to use a file ID.\n",
            "  category=FutureWarning,\n",
            "Downloading...\n",
            "From: https://drive.google.com/uc?id=1DeJebO2PtHQ10CFzOS1fCNs2bCSZ5T7j\n",
            "To: /content/records2018.csv\n",
            "100% 15.0M/15.0M [00:00<00:00, 142MB/s]\n",
            "/usr/local/lib/python3.7/dist-packages/gdown/cli.py:131: FutureWarning: Option `--id` was deprecated in version 4.3.1 and will be removed in 5.0. You don't need to pass it anymore to use a file ID.\n",
            "  category=FutureWarning,\n",
            "Downloading...\n",
            "From: https://drive.google.com/uc?id=1CuDTzC-zJWG3bKnSO2DJ5shi2_-A1ys8\n",
            "To: /content/records2019.csv\n",
            "100% 34.9M/34.9M [00:00<00:00, 152MB/s] \n",
            "/usr/local/lib/python3.7/dist-packages/gdown/cli.py:131: FutureWarning: Option `--id` was deprecated in version 4.3.1 and will be removed in 5.0. You don't need to pass it anymore to use a file ID.\n",
            "  category=FutureWarning,\n",
            "Downloading...\n",
            "From: https://drive.google.com/uc?id=1FPNWBL6Ecgm4suqql_HZcrShzMReJvOe\n",
            "To: /content/records2020.csv\n",
            "100% 11.7M/11.7M [00:00<00:00, 67.1MB/s]\n",
            "/usr/local/lib/python3.7/dist-packages/gdown/cli.py:131: FutureWarning: Option `--id` was deprecated in version 4.3.1 and will be removed in 5.0. You don't need to pass it anymore to use a file ID.\n",
            "  category=FutureWarning,\n",
            "Downloading...\n",
            "From: https://drive.google.com/uc?id=1xUMO3uCn9sGjt9yQanZW7puiNr9n6HK0\n",
            "To: /content/records2021.csv\n",
            "100% 12.7M/12.7M [00:00<00:00, 243MB/s]\n",
            "/usr/local/lib/python3.7/dist-packages/gdown/cli.py:131: FutureWarning: Option `--id` was deprecated in version 4.3.1 and will be removed in 5.0. You don't need to pass it anymore to use a file ID.\n",
            "  category=FutureWarning,\n",
            "Downloading...\n",
            "From: https://drive.google.com/uc?id=1ODoDzFZKi5wCgkDFLLyxoKTESgy8ajET\n",
            "To: /content/records2022.csv\n",
            "100% 15.1M/15.1M [00:00<00:00, 244MB/s]\n"
          ]
        }
      ]
    },
    {
      "cell_type": "markdown",
      "source": [
        "Cargamos los complains y records por año en varios dataframes"
      ],
      "metadata": {
        "id": "PFJQOsuKweEw"
      }
    },
    {
      "cell_type": "code",
      "source": [
        "df_complains = pd.read_csv('ComplaintsUnificado.csv')\n",
        "df_records_2017 = pd.read_csv('records2017.csv')\n",
        "df_records_2018 = pd.read_csv('records2018.csv')\n",
        "df_records_2019 = pd.read_csv('records2019.csv')\n",
        "df_records_2020 = pd.read_csv('records2020.csv')\n",
        "df_records_2021 = pd.read_csv('records2021.csv')\n",
        "df_records_2022 = pd.read_csv('records2022.csv')"
      ],
      "metadata": {
        "id": "BoGwPfHwvjDP",
        "colab": {
          "base_uri": "https://localhost:8080/"
        },
        "outputId": "7dbe3da4-90b8-4b68-e229-4b38d75fecc3"
      },
      "execution_count": 33,
      "outputs": [
        {
          "output_type": "stream",
          "name": "stderr",
          "text": [
            "/usr/local/lib/python3.7/dist-packages/IPython/core/interactiveshell.py:2882: DtypeWarning: Columns (60,61,62,63) have mixed types.Specify dtype option on import or set low_memory=False.\n",
            "  exec(code_obj, self.user_global_ns, self.user_ns)\n"
          ]
        }
      ]
    },
    {
      "cell_type": "markdown",
      "source": [
        "Unimos los dataframes de records y mergeamos los datos de complaints"
      ],
      "metadata": {
        "id": "bTvnWG8Pwj9i"
      }
    },
    {
      "cell_type": "code",
      "source": [
        "df_records = pd.concat([df_records_2017, df_records_2018,df_records_2019, df_records_2020, df_records_2021, df_records_2022], axis=0, ignore_index=True)\n",
        "complaints_merge = pd.concat([df_complains, df_records], axis=1, join=\"inner\")"
      ],
      "metadata": {
        "id": "2ryDMxPlwowO"
      },
      "execution_count": 34,
      "outputs": []
    },
    {
      "cell_type": "code",
      "source": [
        "complaints_merge.groupby('compiledRelease/complaints/0/type').count()[\"compiledRelease/id\"]"
      ],
      "metadata": {
        "id": "sWpI2VjzCBN_",
        "outputId": "a804ef32-a8da-4db8-c695-14f20505b0b2",
        "colab": {
          "base_uri": "https://localhost:8080/",
          "height": 175
        }
      },
      "execution_count": 40,
      "outputs": [
        {
          "output_type": "execute_result",
          "data": {
            "text/plain": [
              "                                               compiledRelease/id  \\\n",
              "compiledRelease/complaints/0/type                                   \n",
              "Protesta acumulada                                            550   \n",
              "Protesta contra pliego de bases y condiciones                3044   \n",
              "Protesta contra resultado                                    3749   \n",
              "\n",
              "                                               compiledRelease/id  \n",
              "compiledRelease/complaints/0/type                                  \n",
              "Protesta acumulada                                            550  \n",
              "Protesta contra pliego de bases y condiciones                3044  \n",
              "Protesta contra resultado                                    3749  "
            ],
            "text/html": [
              "\n",
              "  <div id=\"df-6c27fb7a-cc11-444f-989d-4da2618b7259\">\n",
              "    <div class=\"colab-df-container\">\n",
              "      <div>\n",
              "<style scoped>\n",
              "    .dataframe tbody tr th:only-of-type {\n",
              "        vertical-align: middle;\n",
              "    }\n",
              "\n",
              "    .dataframe tbody tr th {\n",
              "        vertical-align: top;\n",
              "    }\n",
              "\n",
              "    .dataframe thead th {\n",
              "        text-align: right;\n",
              "    }\n",
              "</style>\n",
              "<table border=\"1\" class=\"dataframe\">\n",
              "  <thead>\n",
              "    <tr style=\"text-align: right;\">\n",
              "      <th></th>\n",
              "      <th>compiledRelease/id</th>\n",
              "      <th>compiledRelease/id</th>\n",
              "    </tr>\n",
              "    <tr>\n",
              "      <th>compiledRelease/complaints/0/type</th>\n",
              "      <th></th>\n",
              "      <th></th>\n",
              "    </tr>\n",
              "  </thead>\n",
              "  <tbody>\n",
              "    <tr>\n",
              "      <th>Protesta acumulada</th>\n",
              "      <td>550</td>\n",
              "      <td>550</td>\n",
              "    </tr>\n",
              "    <tr>\n",
              "      <th>Protesta contra pliego de bases y condiciones</th>\n",
              "      <td>3044</td>\n",
              "      <td>3044</td>\n",
              "    </tr>\n",
              "    <tr>\n",
              "      <th>Protesta contra resultado</th>\n",
              "      <td>3749</td>\n",
              "      <td>3749</td>\n",
              "    </tr>\n",
              "  </tbody>\n",
              "</table>\n",
              "</div>\n",
              "      <button class=\"colab-df-convert\" onclick=\"convertToInteractive('df-6c27fb7a-cc11-444f-989d-4da2618b7259')\"\n",
              "              title=\"Convert this dataframe to an interactive table.\"\n",
              "              style=\"display:none;\">\n",
              "        \n",
              "  <svg xmlns=\"http://www.w3.org/2000/svg\" height=\"24px\"viewBox=\"0 0 24 24\"\n",
              "       width=\"24px\">\n",
              "    <path d=\"M0 0h24v24H0V0z\" fill=\"none\"/>\n",
              "    <path d=\"M18.56 5.44l.94 2.06.94-2.06 2.06-.94-2.06-.94-.94-2.06-.94 2.06-2.06.94zm-11 1L8.5 8.5l.94-2.06 2.06-.94-2.06-.94L8.5 2.5l-.94 2.06-2.06.94zm10 10l.94 2.06.94-2.06 2.06-.94-2.06-.94-.94-2.06-.94 2.06-2.06.94z\"/><path d=\"M17.41 7.96l-1.37-1.37c-.4-.4-.92-.59-1.43-.59-.52 0-1.04.2-1.43.59L10.3 9.45l-7.72 7.72c-.78.78-.78 2.05 0 2.83L4 21.41c.39.39.9.59 1.41.59.51 0 1.02-.2 1.41-.59l7.78-7.78 2.81-2.81c.8-.78.8-2.07 0-2.86zM5.41 20L4 18.59l7.72-7.72 1.47 1.35L5.41 20z\"/>\n",
              "  </svg>\n",
              "      </button>\n",
              "      \n",
              "  <style>\n",
              "    .colab-df-container {\n",
              "      display:flex;\n",
              "      flex-wrap:wrap;\n",
              "      gap: 12px;\n",
              "    }\n",
              "\n",
              "    .colab-df-convert {\n",
              "      background-color: #E8F0FE;\n",
              "      border: none;\n",
              "      border-radius: 50%;\n",
              "      cursor: pointer;\n",
              "      display: none;\n",
              "      fill: #1967D2;\n",
              "      height: 32px;\n",
              "      padding: 0 0 0 0;\n",
              "      width: 32px;\n",
              "    }\n",
              "\n",
              "    .colab-df-convert:hover {\n",
              "      background-color: #E2EBFA;\n",
              "      box-shadow: 0px 1px 2px rgba(60, 64, 67, 0.3), 0px 1px 3px 1px rgba(60, 64, 67, 0.15);\n",
              "      fill: #174EA6;\n",
              "    }\n",
              "\n",
              "    [theme=dark] .colab-df-convert {\n",
              "      background-color: #3B4455;\n",
              "      fill: #D2E3FC;\n",
              "    }\n",
              "\n",
              "    [theme=dark] .colab-df-convert:hover {\n",
              "      background-color: #434B5C;\n",
              "      box-shadow: 0px 1px 3px 1px rgba(0, 0, 0, 0.15);\n",
              "      filter: drop-shadow(0px 1px 2px rgba(0, 0, 0, 0.3));\n",
              "      fill: #FFFFFF;\n",
              "    }\n",
              "  </style>\n",
              "\n",
              "      <script>\n",
              "        const buttonEl =\n",
              "          document.querySelector('#df-6c27fb7a-cc11-444f-989d-4da2618b7259 button.colab-df-convert');\n",
              "        buttonEl.style.display =\n",
              "          google.colab.kernel.accessAllowed ? 'block' : 'none';\n",
              "\n",
              "        async function convertToInteractive(key) {\n",
              "          const element = document.querySelector('#df-6c27fb7a-cc11-444f-989d-4da2618b7259');\n",
              "          const dataTable =\n",
              "            await google.colab.kernel.invokeFunction('convertToInteractive',\n",
              "                                                     [key], {});\n",
              "          if (!dataTable) return;\n",
              "\n",
              "          const docLinkHtml = 'Like what you see? Visit the ' +\n",
              "            '<a target=\"_blank\" href=https://colab.research.google.com/notebooks/data_table.ipynb>data table notebook</a>'\n",
              "            + ' to learn more about interactive tables.';\n",
              "          element.innerHTML = '';\n",
              "          dataTable['output_type'] = 'display_data';\n",
              "          await google.colab.output.renderOutput(dataTable, element);\n",
              "          const docLink = document.createElement('div');\n",
              "          docLink.innerHTML = docLinkHtml;\n",
              "          element.appendChild(docLink);\n",
              "        }\n",
              "      </script>\n",
              "    </div>\n",
              "  </div>\n",
              "  "
            ]
          },
          "metadata": {},
          "execution_count": 40
        }
      ]
    }
  ]
}