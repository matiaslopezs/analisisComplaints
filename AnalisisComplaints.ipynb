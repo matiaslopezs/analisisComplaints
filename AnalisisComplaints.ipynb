{
  "nbformat": 4,
  "nbformat_minor": 0,
  "metadata": {
    "colab": {
      "name": "AnalisisComplaints.ipynb",
      "provenance": [],
      "collapsed_sections": [],
      "include_colab_link": true
    },
    "kernelspec": {
      "name": "python3",
      "display_name": "Python 3"
    },
    "language_info": {
      "name": "python"
    }
  },
  "cells": [
    {
      "cell_type": "markdown",
      "metadata": {
        "id": "view-in-github",
        "colab_type": "text"
      },
      "source": [
        "<a href=\"https://colab.research.google.com/github/matiaslopezs/analisisComplaints/blob/main/AnalisisComplaints.ipynb\" target=\"_parent\"><img src=\"https://colab.research.google.com/assets/colab-badge.svg\" alt=\"Open In Colab\"/></a>"
      ]
    },
    {
      "cell_type": "markdown",
      "source": [
        "# Procesamiento de datos inicial"
      ],
      "metadata": {
        "id": "NE6cZ_T3F_ou"
      }
    },
    {
      "cell_type": "code",
      "source": [
        "import pandas as pd\n",
        "pd.set_option('display.max_columns', None) #MOSTRAR TODAS LAS COLUMNAS"
      ],
      "metadata": {
        "id": "UzdwtKQ9vMmW"
      },
      "execution_count": 1,
      "outputs": []
    },
    {
      "cell_type": "markdown",
      "source": [
        "Records dataframe"
      ],
      "metadata": {
        "id": "jv62LYGW7B7-"
      }
    },
    {
      "cell_type": "code",
      "source": [
        "!gdown --id 1PGecRbbl4KlQ9SWvuZ9ekH1cjy4fwTf2 "
      ],
      "metadata": {
        "colab": {
          "base_uri": "https://localhost:8080/"
        },
        "id": "z7hIycXw6PT4",
        "outputId": "12d39df2-2e5b-4ccc-b285-c8392cc0b765"
      },
      "execution_count": 2,
      "outputs": [
        {
          "output_type": "stream",
          "name": "stdout",
          "text": [
            "/usr/local/lib/python3.7/dist-packages/gdown/cli.py:131: FutureWarning: Option `--id` was deprecated in version 4.3.1 and will be removed in 5.0. You don't need to pass it anymore to use a file ID.\n",
            "  category=FutureWarning,\n",
            "Downloading...\n",
            "From: https://drive.google.com/uc?id=1PGecRbbl4KlQ9SWvuZ9ekH1cjy4fwTf2\n",
            "To: /content/ComplaintsUnificado.csv\n",
            "100% 3.45M/3.45M [00:00<00:00, 266MB/s]\n"
          ]
        }
      ]
    },
    {
      "cell_type": "code",
      "source": [
        "!gdown --id 1Pu75kONToz6MiTxuDCoMRBRG3SBKBVO8\n",
        "!gdown --id 1DeJebO2PtHQ10CFzOS1fCNs2bCSZ5T7j\n",
        "!gdown --id 1CuDTzC-zJWG3bKnSO2DJ5shi2_-A1ys8\n",
        "!gdown --id 1FPNWBL6Ecgm4suqql_HZcrShzMReJvOe\n",
        "!gdown --id 1xUMO3uCn9sGjt9yQanZW7puiNr9n6HK0\n",
        "!gdown --id 1ODoDzFZKi5wCgkDFLLyxoKTESgy8ajET\n",
        "!gdown --id 16psIXMtkmqE_pMg208F6zbL26NcBiK4X"
      ],
      "metadata": {
        "id": "AuyPahC_7GaV",
        "outputId": "80b92320-2ae7-4d35-ef7f-e7fd9be2af6c",
        "colab": {
          "base_uri": "https://localhost:8080/"
        }
      },
      "execution_count": 3,
      "outputs": [
        {
          "output_type": "stream",
          "name": "stdout",
          "text": [
            "/usr/local/lib/python3.7/dist-packages/gdown/cli.py:131: FutureWarning: Option `--id` was deprecated in version 4.3.1 and will be removed in 5.0. You don't need to pass it anymore to use a file ID.\n",
            "  category=FutureWarning,\n",
            "Downloading...\n",
            "From: https://drive.google.com/uc?id=1Pu75kONToz6MiTxuDCoMRBRG3SBKBVO8\n",
            "To: /content/records2017.csv\n",
            "100% 15.5M/15.5M [00:00<00:00, 79.7MB/s]\n",
            "/usr/local/lib/python3.7/dist-packages/gdown/cli.py:131: FutureWarning: Option `--id` was deprecated in version 4.3.1 and will be removed in 5.0. You don't need to pass it anymore to use a file ID.\n",
            "  category=FutureWarning,\n",
            "Downloading...\n",
            "From: https://drive.google.com/uc?id=1DeJebO2PtHQ10CFzOS1fCNs2bCSZ5T7j\n",
            "To: /content/records2018.csv\n",
            "100% 15.0M/15.0M [00:00<00:00, 23.7MB/s]\n",
            "/usr/local/lib/python3.7/dist-packages/gdown/cli.py:131: FutureWarning: Option `--id` was deprecated in version 4.3.1 and will be removed in 5.0. You don't need to pass it anymore to use a file ID.\n",
            "  category=FutureWarning,\n",
            "Downloading...\n",
            "From: https://drive.google.com/uc?id=1CuDTzC-zJWG3bKnSO2DJ5shi2_-A1ys8\n",
            "To: /content/records2019.csv\n",
            "100% 34.9M/34.9M [00:00<00:00, 81.7MB/s]\n",
            "/usr/local/lib/python3.7/dist-packages/gdown/cli.py:131: FutureWarning: Option `--id` was deprecated in version 4.3.1 and will be removed in 5.0. You don't need to pass it anymore to use a file ID.\n",
            "  category=FutureWarning,\n",
            "Downloading...\n",
            "From: https://drive.google.com/uc?id=1FPNWBL6Ecgm4suqql_HZcrShzMReJvOe\n",
            "To: /content/records2020.csv\n",
            "100% 11.7M/11.7M [00:00<00:00, 81.0MB/s]\n",
            "/usr/local/lib/python3.7/dist-packages/gdown/cli.py:131: FutureWarning: Option `--id` was deprecated in version 4.3.1 and will be removed in 5.0. You don't need to pass it anymore to use a file ID.\n",
            "  category=FutureWarning,\n",
            "Downloading...\n",
            "From: https://drive.google.com/uc?id=1xUMO3uCn9sGjt9yQanZW7puiNr9n6HK0\n",
            "To: /content/records2021.csv\n",
            "100% 12.7M/12.7M [00:00<00:00, 69.8MB/s]\n",
            "/usr/local/lib/python3.7/dist-packages/gdown/cli.py:131: FutureWarning: Option `--id` was deprecated in version 4.3.1 and will be removed in 5.0. You don't need to pass it anymore to use a file ID.\n",
            "  category=FutureWarning,\n",
            "Downloading...\n",
            "From: https://drive.google.com/uc?id=1ODoDzFZKi5wCgkDFLLyxoKTESgy8ajET\n",
            "To: /content/records2022.csv\n",
            "100% 15.1M/15.1M [00:00<00:00, 94.4MB/s]\n",
            "/usr/local/lib/python3.7/dist-packages/gdown/cli.py:131: FutureWarning: Option `--id` was deprecated in version 4.3.1 and will be removed in 5.0. You don't need to pass it anymore to use a file ID.\n",
            "  category=FutureWarning,\n",
            "Downloading...\n",
            "From: https://drive.google.com/uc?id=16psIXMtkmqE_pMg208F6zbL26NcBiK4X\n",
            "To: /content/Intervenients Unificado.csv\n",
            "100% 4.65M/4.65M [00:00<00:00, 41.9MB/s]\n"
          ]
        }
      ]
    },
    {
      "cell_type": "markdown",
      "source": [
        "Cargamos los complains y records por año en varios dataframes"
      ],
      "metadata": {
        "id": "PFJQOsuKweEw"
      }
    },
    {
      "cell_type": "code",
      "source": [
        "df_complains = pd.read_csv('ComplaintsUnificado.csv')\n",
        "df_interv = pd.read_csv('Intervenients Unificado.csv')\n",
        "df_records_2017 = pd.read_csv('records2017.csv')\n",
        "df_records_2018 = pd.read_csv('records2018.csv')\n",
        "df_records_2019 = pd.read_csv('records2019.csv')\n",
        "df_records_2020 = pd.read_csv('records2020.csv')\n",
        "df_records_2021 = pd.read_csv('records2021.csv')\n",
        "df_records_2022 = pd.read_csv('records2022.csv')"
      ],
      "metadata": {
        "id": "BoGwPfHwvjDP",
        "colab": {
          "base_uri": "https://localhost:8080/"
        },
        "outputId": "5c6c328d-1aec-4a4b-a858-fce604628b94"
      },
      "execution_count": 4,
      "outputs": [
        {
          "output_type": "stream",
          "name": "stderr",
          "text": [
            "/usr/local/lib/python3.7/dist-packages/IPython/core/interactiveshell.py:3326: DtypeWarning: Columns (60,61,62,63) have mixed types.Specify dtype option on import or set low_memory=False.\n",
            "  exec(code_obj, self.user_global_ns, self.user_ns)\n"
          ]
        }
      ]
    },
    {
      "cell_type": "markdown",
      "source": [
        "Unimos los dataframes de records y mergeamos los datos de complaints"
      ],
      "metadata": {
        "id": "bTvnWG8Pwj9i"
      }
    },
    {
      "cell_type": "code",
      "source": [
        "df_records = pd.concat([df_records_2017, df_records_2018,df_records_2019, df_records_2020, df_records_2021, df_records_2022], axis=0, ignore_index=True)\n",
        "complaints_merge = df_complains.merge(df_records,on='compiledRelease/id',how='left')"
      ],
      "metadata": {
        "id": "2ryDMxPlwowO"
      },
      "execution_count": 5,
      "outputs": []
    },
    {
      "cell_type": "markdown",
      "source": [
        "verificamos que las filas sean unicas"
      ],
      "metadata": {
        "id": "k7MEdmfPm9wt"
      }
    },
    {
      "cell_type": "code",
      "source": [
        "df_records['compiledRelease/id'].value_counts()"
      ],
      "metadata": {
        "id": "HKmfWWQIm-h-",
        "outputId": "76466e27-0d47-48c7-d525-6a9d2a580c10",
        "colab": {
          "base_uri": "https://localhost:8080/"
        }
      },
      "execution_count": 6,
      "outputs": [
        {
          "output_type": "execute_result",
          "data": {
            "text/plain": [
              "401119-adquisicion-combustibles-uso-institucional-municipalidad-dr-juan-eulogio-estigarribi-2-1629382617          2\n",
              "ocds-03ad3f-282786-2017-01-26T15:55:24-04:00                                                                      1\n",
              "383151-1591180714                                                                                                 1\n",
              "382980-adquisicion-servicio-provision-distribucion-kits-alimentos-no-perecederos-como-modal-1-1593599450.37818    1\n",
              "373531-construccion-pavimento-tipo-empedrado-km-14-monday-18-monday-19-acaray-20-monday-21-1-1594044136.46992     1\n",
              "                                                                                                                 ..\n",
              "346923-adquisicion-uniformes-personal-servicios-seguridad-equipos-proteccion-laboratorios-1-1554798795.44812      1\n",
              "359320-adquisicion-productos-papel-elaborados-criterios-procesos-sustentabilidad-1-1554917484                     1\n",
              "357470-reparacion-mejoramiento-terminal-omnibus-curuguaty-1-1556208764                                            1\n",
              "357911-adquisicion-motobomba-agua-1-1554370631                                                                    1\n",
              "410497-1657793933.53664                                                                                           1\n",
              "Name: compiledRelease/id, Length: 97986, dtype: int64"
            ]
          },
          "metadata": {},
          "execution_count": 6
        }
      ]
    },
    {
      "cell_type": "code",
      "source": [
        "complaints_merge['compiledRelease/complaints/0/id'].value_counts()"
      ],
      "metadata": {
        "id": "WgtSJhGnnFwq",
        "outputId": "70b3264f-1f00-4fc4-c09d-7408fffbcd28",
        "colab": {
          "base_uri": "https://localhost:8080/"
        }
      },
      "execution_count": 7,
      "outputs": [
        {
          "output_type": "execute_result",
          "data": {
            "text/plain": [
              "153.0     9\n",
              "193.0     8\n",
              "134.0     8\n",
              "159.0     8\n",
              "199.0     8\n",
              "         ..\n",
              "1515.0    1\n",
              "1740.0    1\n",
              "1661.0    1\n",
              "1547.0    1\n",
              "1652.0    1\n",
              "Name: compiledRelease/complaints/0/id, Length: 1816, dtype: int64"
            ]
          },
          "metadata": {},
          "execution_count": 7
        }
      ]
    },
    {
      "cell_type": "code",
      "source": [
        "complaints_merge['compiledRelease/id'].value_counts()"
      ],
      "metadata": {
        "id": "UCd-cnlTnIyP",
        "outputId": "35533959-6d1b-42f9-e20d-2e00280c71b6",
        "colab": {
          "base_uri": "https://localhost:8080/"
        }
      },
      "execution_count": 8,
      "outputs": [
        {
          "output_type": "execute_result",
          "data": {
            "text/plain": [
              "339040-lpn-122-17-adquisicion-insumos-generales-ips-ad-referendum-2018-1-1657032536.27286                       24\n",
              "354118-cursos-capacitacion-laboral-plurianual-1-1544811700                                                      21\n",
              "392633-lpn-sbe-46-21-adquisicion-medicamentos-biologicos-biotecnologicos-oncologicos-e-inmu-1-1657640076        21\n",
              "333964-lp1335-17-servicio-despachos-aduaneros-modalidad-contrato-abierto-ad-referendum-1-1593605937.016         21\n",
              "371093-cursos-capacitacion-laboral-plurianual-1-1624370575.08077                                                20\n",
              "                                                                                                                ..\n",
              "339425-servicio-transporte-materia-prima-cantera-trituradora-principal-fca-vallemi-1-1566641635                  1\n",
              "330982-adquisicion-equipos-oficina-senasa-1-1567110945                                                           1\n",
              "333197-construccion-canal-lateral-pbc-reparacion-empedrado-muro-contencion-pbc-alcantarilla-1-1566579660         1\n",
              "355814-adquisicion-periodicos-1-1565347018                                                                       1\n",
              "415088-provision-almuerzo-escolar-modalidad-alimentos-preparados-instituciones-educativas-1-1657800535.37785     1\n",
              "Name: compiledRelease/id, Length: 4457, dtype: int64"
            ]
          },
          "metadata": {},
          "execution_count": 8
        }
      ]
    },
    {
      "cell_type": "markdown",
      "source": [
        "verificamos que una impugnación no tenga el mismo complaint dos veces (que no hayan repetidos)"
      ],
      "metadata": {
        "id": "lehG1vyOnMNE"
      }
    },
    {
      "cell_type": "code",
      "source": [
        "# complaints_merge.groupby('compiledRelease/id')['compiledRelease/complaints/0/id'].nunique()\n",
        "complaints_merge[\"idsconcat\"] = complaints_merge['compiledRelease/id'].astype(str) +\"-\"+ complaints_merge[\"compiledRelease/complaints/0/id\"].astype(str)"
      ],
      "metadata": {
        "id": "V4ihcf1anOhx"
      },
      "execution_count": 9,
      "outputs": []
    },
    {
      "cell_type": "code",
      "source": [
        "complaints_merge[\"idsconcat\"].value_counts()"
      ],
      "metadata": {
        "id": "GXqIkOi-oOME",
        "outputId": "44ce6692-377f-4b42-e672-5c77ffd20661",
        "colab": {
          "base_uri": "https://localhost:8080/"
        }
      },
      "execution_count": 10,
      "outputs": [
        {
          "output_type": "execute_result",
          "data": {
            "text/plain": [
              "310567-provision-almuerzo-escolar-escuelas-ciudad-san-lorenzo-1-1483429264-595.0                                      1\n",
              "397292-provision-alimentos-bebidas-alcohol-agentes-electorales-cumplimiento-dispuesto-art-1-1635407852.976-473.0      1\n",
              "376792-lpn-n-02-2020-adquisicion-equipos-informaticos-sbe-ad-referendum-1-1633513473.12875-1067.0                     1\n",
              "396288-adquisicion-repuestos-accesorios-menores-vehiculos-1-1634803503.775-547.0                                      1\n",
              "339735-lpn-14-18-diseno-construccion-centro-medicina-fisica-rehabilitacion-psicologia-salud-1-1634830328.564-745.0    1\n",
              "                                                                                                                     ..\n",
              "352207-adquisicion-pet-coke-petroleo-fabrica-vallemi-1-1566889743-1215.0                                              1\n",
              "338407-adquisicion-ascensor-vidriado-area-publica-aisp-1-1566904392-364.0                                             1\n",
              "286313-senalizacion-carteles-varios-1-1566755460-61.0                                                                 1\n",
              "355384-adquisicion-mobiliarios-equipos-tecnologicos-25-instituciones-educativas-20-supervis-1-1566833532-676.0        1\n",
              "nan-nan                                                                                                               1\n",
              "Name: idsconcat, Length: 7344, dtype: int64"
            ]
          },
          "metadata": {},
          "execution_count": 10
        }
      ]
    },
    {
      "cell_type": "markdown",
      "source": [
        "Complaints por tipo de protesta"
      ],
      "metadata": {
        "id": "BiLKzPXtbtxF"
      }
    },
    {
      "cell_type": "code",
      "source": [
        "complaints_merge.groupby(['compiledRelease/complaints/0/type'])['compiledRelease/complaints/0/type'] \\\n",
        "                             .count() \\\n",
        "                             .reset_index(name='Cuenta') \\\n",
        "                             .sort_values(['Cuenta'], ascending=False) \\\n",
        "                             .head(5)"
      ],
      "metadata": {
        "id": "sWpI2VjzCBN_",
        "outputId": "8d7a45e3-0ec1-41e1-a117-f03c6cb1c0b8",
        "colab": {
          "base_uri": "https://localhost:8080/",
          "height": 143
        }
      },
      "execution_count": 11,
      "outputs": [
        {
          "output_type": "execute_result",
          "data": {
            "text/plain": [
              "               compiledRelease/complaints/0/type  Cuenta\n",
              "2                      Protesta contra resultado    3749\n",
              "1  Protesta contra pliego de bases y condiciones    3044\n",
              "0                             Protesta acumulada     550"
            ],
            "text/html": [
              "\n",
              "  <div id=\"df-21ffae80-9b77-471c-969b-dcd5314b98d5\">\n",
              "    <div class=\"colab-df-container\">\n",
              "      <div>\n",
              "<style scoped>\n",
              "    .dataframe tbody tr th:only-of-type {\n",
              "        vertical-align: middle;\n",
              "    }\n",
              "\n",
              "    .dataframe tbody tr th {\n",
              "        vertical-align: top;\n",
              "    }\n",
              "\n",
              "    .dataframe thead th {\n",
              "        text-align: right;\n",
              "    }\n",
              "</style>\n",
              "<table border=\"1\" class=\"dataframe\">\n",
              "  <thead>\n",
              "    <tr style=\"text-align: right;\">\n",
              "      <th></th>\n",
              "      <th>compiledRelease/complaints/0/type</th>\n",
              "      <th>Cuenta</th>\n",
              "    </tr>\n",
              "  </thead>\n",
              "  <tbody>\n",
              "    <tr>\n",
              "      <th>2</th>\n",
              "      <td>Protesta contra resultado</td>\n",
              "      <td>3749</td>\n",
              "    </tr>\n",
              "    <tr>\n",
              "      <th>1</th>\n",
              "      <td>Protesta contra pliego de bases y condiciones</td>\n",
              "      <td>3044</td>\n",
              "    </tr>\n",
              "    <tr>\n",
              "      <th>0</th>\n",
              "      <td>Protesta acumulada</td>\n",
              "      <td>550</td>\n",
              "    </tr>\n",
              "  </tbody>\n",
              "</table>\n",
              "</div>\n",
              "      <button class=\"colab-df-convert\" onclick=\"convertToInteractive('df-21ffae80-9b77-471c-969b-dcd5314b98d5')\"\n",
              "              title=\"Convert this dataframe to an interactive table.\"\n",
              "              style=\"display:none;\">\n",
              "        \n",
              "  <svg xmlns=\"http://www.w3.org/2000/svg\" height=\"24px\"viewBox=\"0 0 24 24\"\n",
              "       width=\"24px\">\n",
              "    <path d=\"M0 0h24v24H0V0z\" fill=\"none\"/>\n",
              "    <path d=\"M18.56 5.44l.94 2.06.94-2.06 2.06-.94-2.06-.94-.94-2.06-.94 2.06-2.06.94zm-11 1L8.5 8.5l.94-2.06 2.06-.94-2.06-.94L8.5 2.5l-.94 2.06-2.06.94zm10 10l.94 2.06.94-2.06 2.06-.94-2.06-.94-.94-2.06-.94 2.06-2.06.94z\"/><path d=\"M17.41 7.96l-1.37-1.37c-.4-.4-.92-.59-1.43-.59-.52 0-1.04.2-1.43.59L10.3 9.45l-7.72 7.72c-.78.78-.78 2.05 0 2.83L4 21.41c.39.39.9.59 1.41.59.51 0 1.02-.2 1.41-.59l7.78-7.78 2.81-2.81c.8-.78.8-2.07 0-2.86zM5.41 20L4 18.59l7.72-7.72 1.47 1.35L5.41 20z\"/>\n",
              "  </svg>\n",
              "      </button>\n",
              "      \n",
              "  <style>\n",
              "    .colab-df-container {\n",
              "      display:flex;\n",
              "      flex-wrap:wrap;\n",
              "      gap: 12px;\n",
              "    }\n",
              "\n",
              "    .colab-df-convert {\n",
              "      background-color: #E8F0FE;\n",
              "      border: none;\n",
              "      border-radius: 50%;\n",
              "      cursor: pointer;\n",
              "      display: none;\n",
              "      fill: #1967D2;\n",
              "      height: 32px;\n",
              "      padding: 0 0 0 0;\n",
              "      width: 32px;\n",
              "    }\n",
              "\n",
              "    .colab-df-convert:hover {\n",
              "      background-color: #E2EBFA;\n",
              "      box-shadow: 0px 1px 2px rgba(60, 64, 67, 0.3), 0px 1px 3px 1px rgba(60, 64, 67, 0.15);\n",
              "      fill: #174EA6;\n",
              "    }\n",
              "\n",
              "    [theme=dark] .colab-df-convert {\n",
              "      background-color: #3B4455;\n",
              "      fill: #D2E3FC;\n",
              "    }\n",
              "\n",
              "    [theme=dark] .colab-df-convert:hover {\n",
              "      background-color: #434B5C;\n",
              "      box-shadow: 0px 1px 3px 1px rgba(0, 0, 0, 0.15);\n",
              "      filter: drop-shadow(0px 1px 2px rgba(0, 0, 0, 0.3));\n",
              "      fill: #FFFFFF;\n",
              "    }\n",
              "  </style>\n",
              "\n",
              "      <script>\n",
              "        const buttonEl =\n",
              "          document.querySelector('#df-21ffae80-9b77-471c-969b-dcd5314b98d5 button.colab-df-convert');\n",
              "        buttonEl.style.display =\n",
              "          google.colab.kernel.accessAllowed ? 'block' : 'none';\n",
              "\n",
              "        async function convertToInteractive(key) {\n",
              "          const element = document.querySelector('#df-21ffae80-9b77-471c-969b-dcd5314b98d5');\n",
              "          const dataTable =\n",
              "            await google.colab.kernel.invokeFunction('convertToInteractive',\n",
              "                                                     [key], {});\n",
              "          if (!dataTable) return;\n",
              "\n",
              "          const docLinkHtml = 'Like what you see? Visit the ' +\n",
              "            '<a target=\"_blank\" href=https://colab.research.google.com/notebooks/data_table.ipynb>data table notebook</a>'\n",
              "            + ' to learn more about interactive tables.';\n",
              "          element.innerHTML = '';\n",
              "          dataTable['output_type'] = 'display_data';\n",
              "          await google.colab.output.renderOutput(dataTable, element);\n",
              "          const docLink = document.createElement('div');\n",
              "          docLink.innerHTML = docLinkHtml;\n",
              "          element.appendChild(docLink);\n",
              "        }\n",
              "      </script>\n",
              "    </div>\n",
              "  </div>\n",
              "  "
            ]
          },
          "metadata": {},
          "execution_count": 11
        }
      ]
    },
    {
      "cell_type": "markdown",
      "source": [
        "Complaints por convocante (investigar campo: compiledRelease/buyer/name)"
      ],
      "metadata": {
        "id": "BaQrTSUSbzg2"
      }
    },
    {
      "cell_type": "code",
      "source": [
        "complaints_merge.groupby(['compiledRelease/tender/procuringEntity/name'])['compiledRelease/tender/procuringEntity/name'] \\\n",
        "                             .count() \\\n",
        "                             .reset_index(name='Cuenta') \\\n",
        "                             .sort_values(['Cuenta'], ascending=False) \\\n",
        "                             .head(10)"
      ],
      "metadata": {
        "id": "vH_bxsVqFYp1",
        "outputId": "6baa7e93-0424-4840-87b2-dcebc5e3d9ee",
        "colab": {
          "base_uri": "https://localhost:8080/",
          "height": 363
        }
      },
      "execution_count": 12,
      "outputs": [
        {
          "output_type": "execute_result",
          "data": {
            "text/plain": [
              "           compiledRelease/tender/procuringEntity/name  Cuenta\n",
              "117                Instituto de Previsión Social (IPS)     619\n",
              "129  Ministerio de Salud Pública y Bienestar Social...     534\n",
              "0       Administración Nacional de Electricidad (ANDE)     358\n",
              "127  Ministerio de Obras Públicas y Comunicaciones ...     343\n",
              "325         Policia Nacional / Ministerio del Interior     195\n",
              "123           Ministerio de Educación y Ciencias (MEC)     161\n",
              "51     Dirección Nacional de Aeronáutica Civil (DINAC)     145\n",
              "67   Facultad de Ciencias Medicas / Universidad Nac...     144\n",
              "7                      Banco Nacional de Fomento (BNF)     138\n",
              "324                    Petróleos Paraguayos (PETROPAR)     130"
            ],
            "text/html": [
              "\n",
              "  <div id=\"df-edcc4fac-efa8-4335-b3de-0395e78492b4\">\n",
              "    <div class=\"colab-df-container\">\n",
              "      <div>\n",
              "<style scoped>\n",
              "    .dataframe tbody tr th:only-of-type {\n",
              "        vertical-align: middle;\n",
              "    }\n",
              "\n",
              "    .dataframe tbody tr th {\n",
              "        vertical-align: top;\n",
              "    }\n",
              "\n",
              "    .dataframe thead th {\n",
              "        text-align: right;\n",
              "    }\n",
              "</style>\n",
              "<table border=\"1\" class=\"dataframe\">\n",
              "  <thead>\n",
              "    <tr style=\"text-align: right;\">\n",
              "      <th></th>\n",
              "      <th>compiledRelease/tender/procuringEntity/name</th>\n",
              "      <th>Cuenta</th>\n",
              "    </tr>\n",
              "  </thead>\n",
              "  <tbody>\n",
              "    <tr>\n",
              "      <th>117</th>\n",
              "      <td>Instituto de Previsión Social (IPS)</td>\n",
              "      <td>619</td>\n",
              "    </tr>\n",
              "    <tr>\n",
              "      <th>129</th>\n",
              "      <td>Ministerio de Salud Pública y Bienestar Social...</td>\n",
              "      <td>534</td>\n",
              "    </tr>\n",
              "    <tr>\n",
              "      <th>0</th>\n",
              "      <td>Administración Nacional de Electricidad (ANDE)</td>\n",
              "      <td>358</td>\n",
              "    </tr>\n",
              "    <tr>\n",
              "      <th>127</th>\n",
              "      <td>Ministerio de Obras Públicas y Comunicaciones ...</td>\n",
              "      <td>343</td>\n",
              "    </tr>\n",
              "    <tr>\n",
              "      <th>325</th>\n",
              "      <td>Policia Nacional / Ministerio del Interior</td>\n",
              "      <td>195</td>\n",
              "    </tr>\n",
              "    <tr>\n",
              "      <th>123</th>\n",
              "      <td>Ministerio de Educación y Ciencias (MEC)</td>\n",
              "      <td>161</td>\n",
              "    </tr>\n",
              "    <tr>\n",
              "      <th>51</th>\n",
              "      <td>Dirección Nacional de Aeronáutica Civil (DINAC)</td>\n",
              "      <td>145</td>\n",
              "    </tr>\n",
              "    <tr>\n",
              "      <th>67</th>\n",
              "      <td>Facultad de Ciencias Medicas / Universidad Nac...</td>\n",
              "      <td>144</td>\n",
              "    </tr>\n",
              "    <tr>\n",
              "      <th>7</th>\n",
              "      <td>Banco Nacional de Fomento (BNF)</td>\n",
              "      <td>138</td>\n",
              "    </tr>\n",
              "    <tr>\n",
              "      <th>324</th>\n",
              "      <td>Petróleos Paraguayos (PETROPAR)</td>\n",
              "      <td>130</td>\n",
              "    </tr>\n",
              "  </tbody>\n",
              "</table>\n",
              "</div>\n",
              "      <button class=\"colab-df-convert\" onclick=\"convertToInteractive('df-edcc4fac-efa8-4335-b3de-0395e78492b4')\"\n",
              "              title=\"Convert this dataframe to an interactive table.\"\n",
              "              style=\"display:none;\">\n",
              "        \n",
              "  <svg xmlns=\"http://www.w3.org/2000/svg\" height=\"24px\"viewBox=\"0 0 24 24\"\n",
              "       width=\"24px\">\n",
              "    <path d=\"M0 0h24v24H0V0z\" fill=\"none\"/>\n",
              "    <path d=\"M18.56 5.44l.94 2.06.94-2.06 2.06-.94-2.06-.94-.94-2.06-.94 2.06-2.06.94zm-11 1L8.5 8.5l.94-2.06 2.06-.94-2.06-.94L8.5 2.5l-.94 2.06-2.06.94zm10 10l.94 2.06.94-2.06 2.06-.94-2.06-.94-.94-2.06-.94 2.06-2.06.94z\"/><path d=\"M17.41 7.96l-1.37-1.37c-.4-.4-.92-.59-1.43-.59-.52 0-1.04.2-1.43.59L10.3 9.45l-7.72 7.72c-.78.78-.78 2.05 0 2.83L4 21.41c.39.39.9.59 1.41.59.51 0 1.02-.2 1.41-.59l7.78-7.78 2.81-2.81c.8-.78.8-2.07 0-2.86zM5.41 20L4 18.59l7.72-7.72 1.47 1.35L5.41 20z\"/>\n",
              "  </svg>\n",
              "      </button>\n",
              "      \n",
              "  <style>\n",
              "    .colab-df-container {\n",
              "      display:flex;\n",
              "      flex-wrap:wrap;\n",
              "      gap: 12px;\n",
              "    }\n",
              "\n",
              "    .colab-df-convert {\n",
              "      background-color: #E8F0FE;\n",
              "      border: none;\n",
              "      border-radius: 50%;\n",
              "      cursor: pointer;\n",
              "      display: none;\n",
              "      fill: #1967D2;\n",
              "      height: 32px;\n",
              "      padding: 0 0 0 0;\n",
              "      width: 32px;\n",
              "    }\n",
              "\n",
              "    .colab-df-convert:hover {\n",
              "      background-color: #E2EBFA;\n",
              "      box-shadow: 0px 1px 2px rgba(60, 64, 67, 0.3), 0px 1px 3px 1px rgba(60, 64, 67, 0.15);\n",
              "      fill: #174EA6;\n",
              "    }\n",
              "\n",
              "    [theme=dark] .colab-df-convert {\n",
              "      background-color: #3B4455;\n",
              "      fill: #D2E3FC;\n",
              "    }\n",
              "\n",
              "    [theme=dark] .colab-df-convert:hover {\n",
              "      background-color: #434B5C;\n",
              "      box-shadow: 0px 1px 3px 1px rgba(0, 0, 0, 0.15);\n",
              "      filter: drop-shadow(0px 1px 2px rgba(0, 0, 0, 0.3));\n",
              "      fill: #FFFFFF;\n",
              "    }\n",
              "  </style>\n",
              "\n",
              "      <script>\n",
              "        const buttonEl =\n",
              "          document.querySelector('#df-edcc4fac-efa8-4335-b3de-0395e78492b4 button.colab-df-convert');\n",
              "        buttonEl.style.display =\n",
              "          google.colab.kernel.accessAllowed ? 'block' : 'none';\n",
              "\n",
              "        async function convertToInteractive(key) {\n",
              "          const element = document.querySelector('#df-edcc4fac-efa8-4335-b3de-0395e78492b4');\n",
              "          const dataTable =\n",
              "            await google.colab.kernel.invokeFunction('convertToInteractive',\n",
              "                                                     [key], {});\n",
              "          if (!dataTable) return;\n",
              "\n",
              "          const docLinkHtml = 'Like what you see? Visit the ' +\n",
              "            '<a target=\"_blank\" href=https://colab.research.google.com/notebooks/data_table.ipynb>data table notebook</a>'\n",
              "            + ' to learn more about interactive tables.';\n",
              "          element.innerHTML = '';\n",
              "          dataTable['output_type'] = 'display_data';\n",
              "          await google.colab.output.renderOutput(dataTable, element);\n",
              "          const docLink = document.createElement('div');\n",
              "          docLink.innerHTML = docLinkHtml;\n",
              "          element.appendChild(docLink);\n",
              "        }\n",
              "      </script>\n",
              "    </div>\n",
              "  </div>\n",
              "  "
            ]
          },
          "metadata": {},
          "execution_count": 12
        }
      ]
    },
    {
      "cell_type": "markdown",
      "source": [
        "Complaints por estado"
      ],
      "metadata": {
        "id": "jSsrnuGzeIPo"
      }
    },
    {
      "cell_type": "code",
      "source": [
        "complaints_merge['compiledRelease/complaints/0/status'].value_counts()"
      ],
      "metadata": {
        "colab": {
          "base_uri": "https://localhost:8080/"
        },
        "id": "lyFD4L49bnSD",
        "outputId": "08a7a08a-c0ee-4abc-eebc-726171575edf"
      },
      "execution_count": 13,
      "outputs": [
        {
          "output_type": "execute_result",
          "data": {
            "text/plain": [
              "Resuelto             5228\n",
              "Rechazo in limine    1894\n",
              "En trámite            101\n",
              "Duplicado              69\n",
              "Tramitado              31\n",
              "Acumulado              17\n",
              "Archivado               3\n",
              "Name: compiledRelease/complaints/0/status, dtype: int64"
            ]
          },
          "metadata": {},
          "execution_count": 13
        }
      ]
    },
    {
      "cell_type": "markdown",
      "source": [
        "Complaints por modalidad"
      ],
      "metadata": {
        "id": "4Pji63f45PkQ"
      }
    },
    {
      "cell_type": "code",
      "source": [
        "complaints_merge['compiledRelease/tender/procurementMethodDetails'].value_counts()"
      ],
      "metadata": {
        "id": "C9YAdq87CN_L",
        "outputId": "b349276d-55aa-46dc-f88a-5b712063517a",
        "colab": {
          "base_uri": "https://localhost:8080/"
        }
      },
      "execution_count": 14,
      "outputs": [
        {
          "output_type": "execute_result",
          "data": {
            "text/plain": [
              "Licitación Pública Nacional                                                                   4222\n",
              "Concurso de Ofertas                                                                           1455\n",
              "Contratación Directa                                                                          1209\n",
              "Licitación Pública Internacional                                                               249\n",
              "Contratación por Excepción                                                                     117\n",
              "BID - Licitación Internacional                                                                  21\n",
              "LPN_SBE_DNCP_BID - LICITACIÓN PUBLICA NACIONAL POR SBE SISTEMA NACIONAL BID BIENES COMUNES      11\n",
              "Acuerdo Nacional                                                                                10\n",
              "BID - Licitación Pública Nacional                                                                6\n",
              "BM - Licitación Pública Internacional - LPI                                                      6\n",
              "BID - Concurso de Ofertas (CO/CP)                                                                5\n",
              "Concurso de Ofertas                                                                              4\n",
              "Selección sobre la base la comparación de las calificaciones                                     3\n",
              "BM - Licitación Pública Nacional - LPN                                                           3\n",
              "Locación de Inmuebles                                                                            3\n",
              "BM - Concurso de Ofertas - CO                                                                    2\n",
              "Selección basada en la calidad y el costo                                                        2\n",
              "BM - Contratación Directa - CD                                                                   1\n",
              "Selección basada en el menor costo                                                               1\n",
              "BID - Contratación Directa (CD/SD)                                                               1\n",
              "Name: compiledRelease/tender/procurementMethodDetails, dtype: int64"
            ]
          },
          "metadata": {},
          "execution_count": 14
        }
      ]
    },
    {
      "cell_type": "markdown",
      "source": [
        "Por estado de licitacion"
      ],
      "metadata": {
        "id": "OVGJH4u7CZnU"
      }
    },
    {
      "cell_type": "code",
      "source": [
        "complaints_merge['compiledRelease/tender/statusDetails'].value_counts()"
      ],
      "metadata": {
        "id": "C9ju7EDTYeoZ",
        "outputId": "2ac0ab33-fd59-4554-efea-fcc84334b882",
        "colab": {
          "base_uri": "https://localhost:8080/"
        }
      },
      "execution_count": 15,
      "outputs": [
        {
          "output_type": "execute_result",
          "data": {
            "text/plain": [
              "Adjudicada                   6373\n",
              "Anulada o Cancelada           490\n",
              "En Evaluacion (Cerrada)       188\n",
              "Desierta                      165\n",
              "En Convocatoria (Abierta)      58\n",
              "Suspendida                     52\n",
              "Inconsistente                   4\n",
              "Precalificado                   1\n",
              "Name: compiledRelease/tender/statusDetails, dtype: int64"
            ]
          },
          "metadata": {},
          "execution_count": 15
        }
      ]
    },
    {
      "cell_type": "markdown",
      "source": [
        "Por tipo de solicitud"
      ],
      "metadata": {
        "id": "Luq_6eZ3Zl6e"
      }
    },
    {
      "cell_type": "code",
      "source": [
        "complaints_merge['compiledRelease/tender/mainProcurementCategory'].value_counts()"
      ],
      "metadata": {
        "id": "Nk5B6Tk-YqZn",
        "outputId": "97085aba-0cdd-4cec-cf38-f849de3a7800",
        "colab": {
          "base_uri": "https://localhost:8080/"
        }
      },
      "execution_count": 16,
      "outputs": [
        {
          "output_type": "execute_result",
          "data": {
            "text/plain": [
              "goods       3795\n",
              "services    2514\n",
              "works       1022\n",
              "Name: compiledRelease/tender/mainProcurementCategory, dtype: int64"
            ]
          },
          "metadata": {},
          "execution_count": 16
        }
      ]
    },
    {
      "cell_type": "markdown",
      "source": [
        "Por descripcion de solicitud"
      ],
      "metadata": {
        "id": "XrJcn2Y-Zogn"
      }
    },
    {
      "cell_type": "code",
      "source": [
        "complaints_merge['compiledRelease/tender/mainProcurementCategoryDetails'].value_counts()"
      ],
      "metadata": {
        "id": "sHfTgoLpCpRj",
        "outputId": "4e166096-8b33-49ff-c1cd-f94b503a9be6",
        "colab": {
          "base_uri": "https://localhost:8080/"
        }
      },
      "execution_count": 17,
      "outputs": [
        {
          "output_type": "execute_result",
          "data": {
            "text/plain": [
              "Obras - Construcción, Restauración, Reconstrucción o Remodelación y Reparación de Inmuebles                                              1022\n",
              "Bienes - Equipos, Productos e instrumentales Médicos y de Laboratorio. Servicios asistenciales de salud                                   979\n",
              "Servicios - Servicios de Limpiezas, Mantenimientos y reparaciones menores y mayores de Instalaciones, Maquinarias y Vehículos             905\n",
              "Bienes - Equipos, accesorios y programas computacionales, de oficina, educativos, de imprenta, de comunicación y señalamiento             884\n",
              "Servicios - Servicios de ceremonial, gastronomico y funerarios                                                                            624\n",
              "Bienes - Productos Alimenticios                                                                                                           394\n",
              "Servicios - Servicios Técnicos                                                                                                            363\n",
              "Bienes - Maquinarias, Equipos y herramientas mayores - Equipos de transporte                                                              333\n",
              "Bienes - Utiles de oficina, Productos de papel y cartón e impresos                                                                        251\n",
              "Consultoria - Consultorías, Asesorías e Investigaciones. Estudios y Proyectos de inversión                                                217\n",
              "Servicios - Seguros                                                                                                                       194\n",
              "Bienes - Materiales e insumos eléctricos, metálicos y no metálicos, Plásticos, cauchos. Repuestos, herramientas, cámaras y cubiertas.     166\n",
              "Bienes - Muebles y Enseres                                                                                                                159\n",
              "Servicios - Equipos Militares y de Seguridad. Servicio de Seguridad y Vigilancia                                                          153\n",
              "Bienes - Textiles, vestuarios y calzados                                                                                                  125\n",
              "Servicios - Equipos, Productos e instrumentales Médicos y de Laboratorio. Servicios asistenciales de salud                                107\n",
              "Bienes - Equipos Militares y de Seguridad. Servicio de Seguridad y Vigilancia                                                              82\n",
              "Servicios - Capacitaciones y Adiestramientos                                                                                               63\n",
              "Servicios - Pasajes y Transportes                                                                                                          59\n",
              "Bienes - Productos quimicos                                                                                                                56\n",
              "Servicios - Publicidad y Propaganda                                                                                                        51\n",
              "Bienes - Elementos e insumos de limpieza                                                                                                   39\n",
              "Bienes - Combustibles y Lubricantes                                                                                                        26\n",
              "Locación Muebles - Adquisición y Locación de inmuebles. Alquiler de muebles                                                                25\n",
              "Bienes - Minerales                                                                                                                         21\n",
              "Bienes - Utensilios de cocina y comedor, Productos de Porcelana, vidrio y loza                                                             11\n",
              "Bienes - Bienes e insumos agropecuario y forestal                                                                                           9\n",
              "Servicios - Adquisición y Locación de inmuebles. Alquiler de muebles                                                                        8\n",
              "Locación Inmuebles - Adquisición y Locación de inmuebles. Alquiler de muebles                                                               4\n",
              "Consultorías, Asesorías e Investigaciones. Estudios y Proyectos de inversión                                                                1\n",
              "Name: compiledRelease/tender/mainProcurementCategoryDetails, dtype: int64"
            ]
          },
          "metadata": {},
          "execution_count": 17
        }
      ]
    },
    {
      "cell_type": "markdown",
      "source": [
        "Cantidad de protesta por protestante"
      ],
      "metadata": {
        "id": "3LmcoyfomJzQ"
      }
    },
    {
      "cell_type": "code",
      "source": [
        "options = ['claimant'] # selecting rows based on condition \n",
        "interv_just_claimants = df_interv[df_interv['compiledRelease/complaints/0/intervenients/0/roles'].isin(options)]\n",
        "interv_just_claimants['compiledRelease/complaints/0/intervenients/0/name'].value_counts()"
      ],
      "metadata": {
        "id": "v4_zcGxSmNwl",
        "outputId": "1468d0cc-4a22-433d-df23-6fef596aaebb",
        "colab": {
          "base_uri": "https://localhost:8080/"
        }
      },
      "execution_count": 18,
      "outputs": [
        {
          "output_type": "execute_result",
          "data": {
            "text/plain": [
              "DATA LAB SA                                   156\n",
              "MASTER SOFT PARAGUAY SRL                      108\n",
              "LAKMI S.A.                                     83\n",
              "DATA SYSTEMS SA EMISORA DE CAPITAL ABIERTO     81\n",
              "EUROQUIMICA S.A.                               75\n",
              "                                             ... \n",
              "M.C.N. SRL                                      1\n",
              "DOMINGO ALEJANDRO LEIVA RIVERA                  1\n",
              "C.A.O. S.R.L.                                   1\n",
              "CALTEC S.R.L.                                   1\n",
              "EOS S.R.L.                                      1\n",
              "Name: compiledRelease/complaints/0/intervenients/0/name, Length: 2354, dtype: int64"
            ]
          },
          "metadata": {},
          "execution_count": 18
        }
      ]
    },
    {
      "cell_type": "markdown",
      "source": [
        "# Usando datos de banderas rojas extraidos del elastic search"
      ],
      "metadata": {
        "id": "a3JNHLLtF4Vy"
      }
    },
    {
      "cell_type": "markdown",
      "source": [
        "Obteniendo datos de banderas rojas por OCDS_ID de los ultimos 5 años"
      ],
      "metadata": {
        "id": "Z2VYA9F9hKqP"
      }
    },
    {
      "cell_type": "code",
      "source": [
        "!gdown --id 1g7UxONan6NAlldgk4mE2PVRhk0f5oSFS\n",
        "banderas_df = pd.read_csv('elastic_export2017-2022.csv')"
      ],
      "metadata": {
        "id": "ySd_JhiVczc2",
        "outputId": "e8b443ac-2acd-4293-c32b-dd13acdadc63",
        "colab": {
          "base_uri": "https://localhost:8080/"
        }
      },
      "execution_count": 19,
      "outputs": [
        {
          "output_type": "stream",
          "name": "stdout",
          "text": [
            "/usr/local/lib/python3.7/dist-packages/gdown/cli.py:131: FutureWarning: Option `--id` was deprecated in version 4.3.1 and will be removed in 5.0. You don't need to pass it anymore to use a file ID.\n",
            "  category=FutureWarning,\n",
            "Downloading...\n",
            "From: https://drive.google.com/uc?id=1g7UxONan6NAlldgk4mE2PVRhk0f5oSFS\n",
            "To: /content/elastic_export2017-2022.csv\n",
            "100% 3.64M/3.64M [00:00<00:00, 256MB/s]\n"
          ]
        }
      ]
    },
    {
      "cell_type": "markdown",
      "source": [
        "Agrupando filas usando el id y concatenando string de banderas"
      ],
      "metadata": {
        "id": "0zY-D6KzFCPm"
      }
    },
    {
      "cell_type": "code",
      "source": [
        "# https://stackoverflow.com/questions/27298178/concatenate-strings-from-several-rows-using-pandas-groupby\n",
        "# https://stackoverflow.com/questions/39300163/pandas-concat-strings-after-groupby-in-column-ignore-nan-ignore-duplicates\n",
        "grouped_banderas = banderas_df.groupby(['compiledRelease/id'])['bandera'].apply(lambda x: '' if x.isnull().any() else ','.join(x) ).reset_index()"
      ],
      "metadata": {
        "id": "gyagJ4K54HTT"
      },
      "execution_count": 20,
      "outputs": []
    },
    {
      "cell_type": "code",
      "source": [
        "banderas_records_merge = df_records.merge(grouped_banderas, how='left',left_on='Open Contracting ID', right_on='compiledRelease/id')\n",
        "# complaints_banderas_merge = df_complains.merge(banderas_records_merge,on='compiledRelease/id',how='left')"
      ],
      "metadata": {
        "id": "2IS8xkELFdjA"
      },
      "execution_count": 21,
      "outputs": []
    },
    {
      "cell_type": "code",
      "source": [
        "banderas_records_merge.head()"
      ],
      "metadata": {
        "id": "IfnPE27OGRxX",
        "outputId": "466173bf-a7f4-463f-f847-0f18ec0b9ed1",
        "colab": {
          "base_uri": "https://localhost:8080/",
          "height": 461
        }
      },
      "execution_count": 22,
      "outputs": [
        {
          "output_type": "execute_result",
          "data": {
            "text/plain": [
              "    Open Contracting ID                               compiledRelease/id_x  \\\n",
              "0    ocds-03ad3f-282786       ocds-03ad3f-282786-2017-01-26T15:55:24-04:00   \n",
              "1  ocds-03ad3f-2016-476  476-2016-proyecto-construccion-operacion-mante...   \n",
              "2  ocds-03ad3f-302366-1  302366-ce-adquisicion-inmuebles-comunidad-san-...   \n",
              "3  ocds-03ad3f-321645-1  321645-adquisicion-tubo-hormigon-1-1485790526....   \n",
              "4  ocds-03ad3f-319892-1  319892-construccion-aula-muro-reparacion-techo...   \n",
              "\n",
              "  compiledRelease/tag       compiledRelease/date  compiledRelease/ocid  \\\n",
              "0            compiled  2017-01-26T15:55:24-04:00    ocds-03ad3f-282786   \n",
              "1            compiled  2017-01-03T00:00:00-04:00  ocds-03ad3f-2016-476   \n",
              "2            compiled  2017-01-16T14:39:16-04:00  ocds-03ad3f-302366-1   \n",
              "3            compiled  2017-01-30T15:35:26-04:00  ocds-03ad3f-321645-1   \n",
              "4            compiled  2017-01-03T08:17:11-04:00  ocds-03ad3f-319892-1   \n",
              "\n",
              "                      compiledRelease/secondStage/id  \\\n",
              "0  282786-adquisicion-elementos-limpieza-ejercici...   \n",
              "1                                                NaN   \n",
              "2                                                NaN   \n",
              "3                                                NaN   \n",
              "4                                                NaN   \n",
              "\n",
              "  compiledRelease/initiationType compiledRelease/language  \\\n",
              "0                         tender                       es   \n",
              "1                         tender                       es   \n",
              "2                         tender                       es   \n",
              "3                         tender                       es   \n",
              "4                         tender                       es   \n",
              "\n",
              "                           compiledRelease/tender/id  \\\n",
              "0  282786-adquisicion-elementos-limpieza-ejercici...   \n",
              "1                                           2017-476   \n",
              "2  302366-ce-adquisicion-inmuebles-comunidad-san-...   \n",
              "3                 321645-adquisicion-tubo-hormigon-1   \n",
              "4   319892-construccion-aula-muro-reparacion-techo-1   \n",
              "\n",
              "  compiledRelease/tender/techniques/hasFrameworkAgreement  \\\n",
              "0                                               True        \n",
              "1                                                NaN        \n",
              "2                                                NaN        \n",
              "3                                                NaN        \n",
              "4                                                NaN        \n",
              "\n",
              "                        compiledRelease/tender/title  \\\n",
              "0  ADQUISICION DE ELEMENTOS DE LIMPIEZA PARA EL E...   \n",
              "1  Proyecto, Construcción, Operación y Mantenimie...   \n",
              "2  CE ADQUISICION DE INMUEBLES PARA LA COMUNIDAD ...   \n",
              "3                    adquisicion de tubo de hormigon   \n",
              "4  CONSTRUCCIÓN DE AULA - MURO - REPARACIÓN DE TE...   \n",
              "\n",
              "  compiledRelease/tender/status compiledRelease/tender/statusDetails  \\\n",
              "0                      complete              Con Convenio Finalizado   \n",
              "1                      complete                        Precalificado   \n",
              "2                      complete                           Adjudicada   \n",
              "3                      complete                           Adjudicada   \n",
              "4                     cancelled                  Anulada o Cancelada   \n",
              "\n",
              "  compiledRelease/tender/submissionMethod  \\\n",
              "0                                inPerson   \n",
              "1                                inPerson   \n",
              "2                                     NaN   \n",
              "3                                     NaN   \n",
              "4                                inPerson   \n",
              "\n",
              "      compiledRelease/tender/submissionMethodDetails  \\\n",
              "0  Lugar entrega ofertas: EDIFICIO DNCP EE.UU.961...   \n",
              "1  Lugar entrega ofertas: Según documento del lla...   \n",
              "2                                                NaN   \n",
              "3                                                NaN   \n",
              "4  Lugar entrega ofertas: DIRECCION UOC || Lugar ...   \n",
              "\n",
              "  compiledRelease/tender/bidOpening/date  \\\n",
              "0              2014-11-27T10:15:00-04:00   \n",
              "1              2017-03-13T09:15:00-04:00   \n",
              "2                                    NaN   \n",
              "3                                    NaN   \n",
              "4              2016-12-12T09:15:00-04:00   \n",
              "\n",
              "  compiledRelease/tender/bidOpening/address/streetAddress  \\\n",
              "0  EDIFICIO DNCP EE.UU.961 C/ TTE. FARIÑA - 2DO P...        \n",
              "1                       Según documento del llamado.        \n",
              "2                                                NaN        \n",
              "3                                                NaN        \n",
              "4                                      DIRECCION UOC        \n",
              "\n",
              "          compiledRelease/tender/eligibilityCriteria  \\\n",
              "0  Restricciones: Inhabilidades previstas en el a...   \n",
              "1                                                NaN   \n",
              "2                                                NaN   \n",
              "3                                                NaN   \n",
              "4  Restricciones: INHABILIDADES PREVISTAS EN EL A...   \n",
              "\n",
              "  compiledRelease/tender/enquiriesAddress/streetAddress  \\\n",
              "0  EDIFICIO DNCP EE.UU.961 C/ TTE. FARIÑA - MESA ...      \n",
              "1                       Según documento del llamado.      \n",
              "2                                                NaN      \n",
              "3                                                NaN      \n",
              "4                                      DIRECCION UOC      \n",
              "\n",
              "  compiledRelease/tender/mainProcurementCategoryDetails  \\\n",
              "0                    Elementos e insumos de limpieza      \n",
              "1  Construcción, Restauración, Reconstrucción o R...      \n",
              "2  Tierras - Adquisición y Locación de inmuebles....      \n",
              "3                                 Bienes - Minerales      \n",
              "4  Obras - Construcción, Restauración, Reconstruc...      \n",
              "\n",
              "  compiledRelease/tender/datePublished  \\\n",
              "0            2014-10-14T08:05:52-04:00   \n",
              "1                                  NaN   \n",
              "2            2016-06-01T18:04:56-04:00   \n",
              "3            2017-01-30T15:35:26-04:00   \n",
              "4            2016-11-29T07:31:18-04:00   \n",
              "\n",
              "  compiledRelease/tender/tenderPeriod/endDate  \\\n",
              "0                   2014-11-27T10:00:00-04:00   \n",
              "1                   2017-03-13T09:00:00-04:00   \n",
              "2                                         NaN   \n",
              "3                                         NaN   \n",
              "4                   2016-12-12T09:00:00-04:00   \n",
              "\n",
              "  compiledRelease/tender/tenderPeriod/startDate  \\\n",
              "0                     2014-10-14T08:05:52-04:00   \n",
              "1                     2017-01-03T00:00:00-04:00   \n",
              "2                                           NaN   \n",
              "3                                           NaN   \n",
              "4                     2016-11-29T07:31:18-04:00   \n",
              "\n",
              "  compiledRelease/tender/awardPeriod/startDate  \\\n",
              "0                    2014-11-27T10:15:00-04:00   \n",
              "1                                          NaN   \n",
              "2                    2016-08-08T09:30:00-04:00   \n",
              "3                    2017-01-20T08:30:00-04:00   \n",
              "4                    2016-12-12T09:15:00-04:00   \n",
              "\n",
              "  compiledRelease/tender/contractPeriod/startDate  \\\n",
              "0                       2015-03-06T00:00:00-04:00   \n",
              "1                                             NaN   \n",
              "2                                             NaN   \n",
              "3                                             NaN   \n",
              "4                                             NaN   \n",
              "\n",
              "  compiledRelease/tender/contractPeriod/endDate  \\\n",
              "0                     2015-11-28T00:00:00-04:00   \n",
              "1                                           NaN   \n",
              "2                                           NaN   \n",
              "3                                           NaN   \n",
              "4                                           NaN   \n",
              "\n",
              "  compiledRelease/tender/enquiryPeriod/endDate  \\\n",
              "0                    2014-11-20T16:00:00-04:00   \n",
              "1                    2017-03-06T15:00:00-04:00   \n",
              "2                                          NaN   \n",
              "3                                          NaN   \n",
              "4                    2016-12-06T11:30:00-04:00   \n",
              "\n",
              "  compiledRelease/tender/enquiryPeriod/startDate  \\\n",
              "0                      2014-10-14T08:05:52-04:00   \n",
              "1                      2017-01-03T00:00:00-04:00   \n",
              "2                                            NaN   \n",
              "3                                            NaN   \n",
              "4                      2016-11-29T07:31:18-04:00   \n",
              "\n",
              "   compiledRelease/tender/enquiryPeriod/durationInDays  \\\n",
              "0                                               37.0     \n",
              "1                                                NaN     \n",
              "2                                                NaN     \n",
              "3                                                NaN     \n",
              "4                                                7.0     \n",
              "\n",
              "  compiledRelease/tender/mainProcurementCategory  \\\n",
              "0                                          goods   \n",
              "1                                          works   \n",
              "2                                       services   \n",
              "3                                          goods   \n",
              "4                                          works   \n",
              "\n",
              "  compiledRelease/tender/procurementMethod  \\\n",
              "0                                     open   \n",
              "1                                selective   \n",
              "2                                   direct   \n",
              "3                                   direct   \n",
              "4                                     open   \n",
              "\n",
              "  compiledRelease/tender/procurementMethodDetails  \\\n",
              "0                     Licitación Pública Nacional   \n",
              "1                Licitación Pública Internacional   \n",
              "2                      Contratación por Excepción   \n",
              "3                      Contratación por Excepción   \n",
              "4                             Concurso de Ofertas   \n",
              "\n",
              "  compiledRelease/tender/procuringEntity/id  \\\n",
              "0                        DNCP-SICP-CODE-326   \n",
              "1                        DNCP-SICP-CODE-167   \n",
              "2                         DNCP-SICP-CODE-20   \n",
              "3                         DNCP-SICP-CODE-66   \n",
              "4                        DNCP-SICP-CODE-212   \n",
              "\n",
              "         compiledRelease/tender/procuringEntity/name  \\\n",
              "0  Dirección Nacional de Contrataciones Públicas ...   \n",
              "1     Administración Nacional de Electricidad (ANDE)   \n",
              "2  Ministerio de Obras Públicas y Comunicaciones ...   \n",
              "3               Municipalidad de Fernando de la Mora   \n",
              "4                       Municipalidad de San Ignacio   \n",
              "\n",
              "   compiledRelease/tender/tenderPeriod/durationInDays  \\\n",
              "0                                                NaN    \n",
              "1                                               69.0    \n",
              "2                                                NaN    \n",
              "3                                                NaN    \n",
              "4                                               13.0    \n",
              "\n",
              "  compiledRelease/tender/additionalProcurementCategories  \\\n",
              "0                                                NaN       \n",
              "1                                              works       \n",
              "2                                              goods       \n",
              "3                                                NaN       \n",
              "4                                              works       \n",
              "\n",
              "  compiledRelease/tender/awardCriteria  \\\n",
              "0                                  NaN   \n",
              "1                                  NaN   \n",
              "2                            priceOnly   \n",
              "3                            priceOnly   \n",
              "4                            priceOnly   \n",
              "\n",
              "  compiledRelease/tender/awardCriteriaDetails  \\\n",
              "0                                         NaN   \n",
              "1                                         NaN   \n",
              "2                                    Por Lote   \n",
              "3                                   Por Total   \n",
              "4                                    Por Lote   \n",
              "\n",
              "  compiledRelease/tender/hasEnquiries  compiledRelease/tender/value/amount  \\\n",
              "0                                 NaN                                  NaN   \n",
              "1                                 NaN                                  NaN   \n",
              "2                               False                         1.477704e+09   \n",
              "3                               False                         3.990000e+08   \n",
              "4                               False                         2.272611e+08   \n",
              "\n",
              "  compiledRelease/tender/value/currency  \\\n",
              "0                                   NaN   \n",
              "1                                   NaN   \n",
              "2                                   PYG   \n",
              "3                                   PYG   \n",
              "4                                   PYG   \n",
              "\n",
              "  compiledRelease/tender/contractPeriod/maxExtentDate  \\\n",
              "0                                                NaN    \n",
              "1                                                NaN    \n",
              "2                          2016-12-31T00:00:00-04:00    \n",
              "3                                                NaN    \n",
              "4                                                NaN    \n",
              "\n",
              "   compiledRelease/tender/numberOfTenderers compiledRelease/buyer/id  \\\n",
              "0                                       NaN                      NaN   \n",
              "1                                       NaN                      NaN   \n",
              "2                                       3.0        DNCP-SICP-CODE-20   \n",
              "3                                       NaN        DNCP-SICP-CODE-66   \n",
              "4                                       1.0       DNCP-SICP-CODE-212   \n",
              "\n",
              "                          compiledRelease/buyer/name  \\\n",
              "0                                                NaN   \n",
              "1                                                NaN   \n",
              "2  Ministerio de Obras Públicas y Comunicaciones ...   \n",
              "3               Municipalidad de Fernando de la Mora   \n",
              "4                       Municipalidad de San Ignacio   \n",
              "\n",
              "  compiledRelease/tender/coveredBy  compiledRelease/planning/identifier  \\\n",
              "0                              NaN                                  NaN   \n",
              "1                              NaN                                  NaN   \n",
              "2                              NaN                                  NaN   \n",
              "3  fonacide;urgencia_impostergable                                  NaN   \n",
              "4                         fonacide                             319892.0   \n",
              "\n",
              "  compiledRelease/planning/estimatedDate  \\\n",
              "0                                    NaN   \n",
              "1                                    NaN   \n",
              "2                                    NaN   \n",
              "3                                    NaN   \n",
              "4              2016-11-30T00:00:00-04:00   \n",
              "\n",
              "         compiledRelease/planning/budget/description  \\\n",
              "0                                                NaN   \n",
              "1                                                NaN   \n",
              "2                                                NaN   \n",
              "3                                                NaN   \n",
              "4  CONSTRUCCIÓN DE AULA - MURO - REPARACIÓN DE TE...   \n",
              "\n",
              "  compiledRelease/planning/budget/amount/currency  \\\n",
              "0                                             NaN   \n",
              "1                                             NaN   \n",
              "2                                             NaN   \n",
              "3                                             NaN   \n",
              "4                                             PYG   \n",
              "\n",
              "   compiledRelease/planning/budget/amount/amount  \\\n",
              "0                                            NaN   \n",
              "1                                            NaN   \n",
              "2                                            NaN   \n",
              "3                                            NaN   \n",
              "4                                    310000000.0   \n",
              "\n",
              "   compiledRelease/tender/contractPeriod/durationInDays  \\\n",
              "0                                                NaN      \n",
              "1                                                NaN      \n",
              "2                                                NaN      \n",
              "3                                                NaN      \n",
              "4                                                NaN      \n",
              "\n",
              "  compiledRelease/tender/techniques/hasElectronicAuction  \\\n",
              "0                                                NaN       \n",
              "1                                                NaN       \n",
              "2                                                NaN       \n",
              "3                                                NaN       \n",
              "4                                                NaN       \n",
              "\n",
              "  compiledRelease/tender/procurementIntention/id  \\\n",
              "0                                            NaN   \n",
              "1                                            NaN   \n",
              "2                                            NaN   \n",
              "3                                            NaN   \n",
              "4                                            NaN   \n",
              "\n",
              "  compiledRelease/tender/procurementIntention/uri  \\\n",
              "0                                             NaN   \n",
              "1                                             NaN   \n",
              "2                                             NaN   \n",
              "3                                             NaN   \n",
              "4                                             NaN   \n",
              "\n",
              "  compiledRelease/tender/procurementIntention/category  \\\n",
              "0                                                NaN     \n",
              "1                                                NaN     \n",
              "2                                                NaN     \n",
              "3                                                NaN     \n",
              "4                                                NaN     \n",
              "\n",
              "  compiledRelease/tender/procurementIntention/title  \\\n",
              "0                                               NaN   \n",
              "1                                               NaN   \n",
              "2                                               NaN   \n",
              "3                                               NaN   \n",
              "4                                               NaN   \n",
              "\n",
              "  compiledRelease/tender/procurementIntention/description  \\\n",
              "0                                                NaN        \n",
              "1                                                NaN        \n",
              "2                                                NaN        \n",
              "3                                                NaN        \n",
              "4                                                NaN        \n",
              "\n",
              "  compiledRelease/tender/procurementIntention/startDate  \\\n",
              "0                                                NaN      \n",
              "1                                                NaN      \n",
              "2                                                NaN      \n",
              "3                                                NaN      \n",
              "4                                                NaN      \n",
              "\n",
              "  compiledRelease/tender/procurementIntention/publishedDate  \\\n",
              "0                                                NaN          \n",
              "1                                                NaN          \n",
              "2                                                NaN          \n",
              "3                                                NaN          \n",
              "4                                                NaN          \n",
              "\n",
              "   compiledRelease/tender/procurementIntention/procuringEntity/id  \\\n",
              "0                                                NaN                \n",
              "1                                                NaN                \n",
              "2                                                NaN                \n",
              "3                                                NaN                \n",
              "4                                                NaN                \n",
              "\n",
              "  compiledRelease/tender/procurementIntention/procuringEntity/name  \\\n",
              "0                                                NaN                 \n",
              "1                                                NaN                 \n",
              "2                                                NaN                 \n",
              "3                                                NaN                 \n",
              "4                                                NaN                 \n",
              "\n",
              "  compiledRelease/tender/procurementIntention/status  \\\n",
              "0                                                NaN   \n",
              "1                                                NaN   \n",
              "2                                                NaN   \n",
              "3                                                NaN   \n",
              "4                                                NaN   \n",
              "\n",
              "  compiledRelease/tender/procurementIntention/statusDetails  \\\n",
              "0                                                NaN          \n",
              "1                                                NaN          \n",
              "2                                                NaN          \n",
              "3                                                NaN          \n",
              "4                                                NaN          \n",
              "\n",
              "  compiledRelease/tender/procurementMethodRationale  \\\n",
              "0                                               NaN   \n",
              "1                                               NaN   \n",
              "2                                               NaN   \n",
              "3                                               NaN   \n",
              "4                                               NaN   \n",
              "\n",
              "  compiledRelease/tender/procurementIntention/rationale  compiledRelease/id_y  \\\n",
              "0                                                NaN                      NaN   \n",
              "1                                                NaN                      NaN   \n",
              "2                                                NaN                      NaN   \n",
              "3                                                NaN     ocds-03ad3f-321645-1   \n",
              "4                                                NaN                      NaN   \n",
              "\n",
              "  bandera  \n",
              "0     NaN  \n",
              "1     NaN  \n",
              "2     NaN  \n",
              "3          \n",
              "4     NaN  "
            ],
            "text/html": [
              "\n",
              "  <div id=\"df-46a7eca1-172f-44ef-9452-faf93f7cd528\">\n",
              "    <div class=\"colab-df-container\">\n",
              "      <div>\n",
              "<style scoped>\n",
              "    .dataframe tbody tr th:only-of-type {\n",
              "        vertical-align: middle;\n",
              "    }\n",
              "\n",
              "    .dataframe tbody tr th {\n",
              "        vertical-align: top;\n",
              "    }\n",
              "\n",
              "    .dataframe thead th {\n",
              "        text-align: right;\n",
              "    }\n",
              "</style>\n",
              "<table border=\"1\" class=\"dataframe\">\n",
              "  <thead>\n",
              "    <tr style=\"text-align: right;\">\n",
              "      <th></th>\n",
              "      <th>Open Contracting ID</th>\n",
              "      <th>compiledRelease/id_x</th>\n",
              "      <th>compiledRelease/tag</th>\n",
              "      <th>compiledRelease/date</th>\n",
              "      <th>compiledRelease/ocid</th>\n",
              "      <th>compiledRelease/secondStage/id</th>\n",
              "      <th>compiledRelease/initiationType</th>\n",
              "      <th>compiledRelease/language</th>\n",
              "      <th>compiledRelease/tender/id</th>\n",
              "      <th>compiledRelease/tender/techniques/hasFrameworkAgreement</th>\n",
              "      <th>compiledRelease/tender/title</th>\n",
              "      <th>compiledRelease/tender/status</th>\n",
              "      <th>compiledRelease/tender/statusDetails</th>\n",
              "      <th>compiledRelease/tender/submissionMethod</th>\n",
              "      <th>compiledRelease/tender/submissionMethodDetails</th>\n",
              "      <th>compiledRelease/tender/bidOpening/date</th>\n",
              "      <th>compiledRelease/tender/bidOpening/address/streetAddress</th>\n",
              "      <th>compiledRelease/tender/eligibilityCriteria</th>\n",
              "      <th>compiledRelease/tender/enquiriesAddress/streetAddress</th>\n",
              "      <th>compiledRelease/tender/mainProcurementCategoryDetails</th>\n",
              "      <th>compiledRelease/tender/datePublished</th>\n",
              "      <th>compiledRelease/tender/tenderPeriod/endDate</th>\n",
              "      <th>compiledRelease/tender/tenderPeriod/startDate</th>\n",
              "      <th>compiledRelease/tender/awardPeriod/startDate</th>\n",
              "      <th>compiledRelease/tender/contractPeriod/startDate</th>\n",
              "      <th>compiledRelease/tender/contractPeriod/endDate</th>\n",
              "      <th>compiledRelease/tender/enquiryPeriod/endDate</th>\n",
              "      <th>compiledRelease/tender/enquiryPeriod/startDate</th>\n",
              "      <th>compiledRelease/tender/enquiryPeriod/durationInDays</th>\n",
              "      <th>compiledRelease/tender/mainProcurementCategory</th>\n",
              "      <th>compiledRelease/tender/procurementMethod</th>\n",
              "      <th>compiledRelease/tender/procurementMethodDetails</th>\n",
              "      <th>compiledRelease/tender/procuringEntity/id</th>\n",
              "      <th>compiledRelease/tender/procuringEntity/name</th>\n",
              "      <th>compiledRelease/tender/tenderPeriod/durationInDays</th>\n",
              "      <th>compiledRelease/tender/additionalProcurementCategories</th>\n",
              "      <th>compiledRelease/tender/awardCriteria</th>\n",
              "      <th>compiledRelease/tender/awardCriteriaDetails</th>\n",
              "      <th>compiledRelease/tender/hasEnquiries</th>\n",
              "      <th>compiledRelease/tender/value/amount</th>\n",
              "      <th>compiledRelease/tender/value/currency</th>\n",
              "      <th>compiledRelease/tender/contractPeriod/maxExtentDate</th>\n",
              "      <th>compiledRelease/tender/numberOfTenderers</th>\n",
              "      <th>compiledRelease/buyer/id</th>\n",
              "      <th>compiledRelease/buyer/name</th>\n",
              "      <th>compiledRelease/tender/coveredBy</th>\n",
              "      <th>compiledRelease/planning/identifier</th>\n",
              "      <th>compiledRelease/planning/estimatedDate</th>\n",
              "      <th>compiledRelease/planning/budget/description</th>\n",
              "      <th>compiledRelease/planning/budget/amount/currency</th>\n",
              "      <th>compiledRelease/planning/budget/amount/amount</th>\n",
              "      <th>compiledRelease/tender/contractPeriod/durationInDays</th>\n",
              "      <th>compiledRelease/tender/techniques/hasElectronicAuction</th>\n",
              "      <th>compiledRelease/tender/procurementIntention/id</th>\n",
              "      <th>compiledRelease/tender/procurementIntention/uri</th>\n",
              "      <th>compiledRelease/tender/procurementIntention/category</th>\n",
              "      <th>compiledRelease/tender/procurementIntention/title</th>\n",
              "      <th>compiledRelease/tender/procurementIntention/description</th>\n",
              "      <th>compiledRelease/tender/procurementIntention/startDate</th>\n",
              "      <th>compiledRelease/tender/procurementIntention/publishedDate</th>\n",
              "      <th>compiledRelease/tender/procurementIntention/procuringEntity/id</th>\n",
              "      <th>compiledRelease/tender/procurementIntention/procuringEntity/name</th>\n",
              "      <th>compiledRelease/tender/procurementIntention/status</th>\n",
              "      <th>compiledRelease/tender/procurementIntention/statusDetails</th>\n",
              "      <th>compiledRelease/tender/procurementMethodRationale</th>\n",
              "      <th>compiledRelease/tender/procurementIntention/rationale</th>\n",
              "      <th>compiledRelease/id_y</th>\n",
              "      <th>bandera</th>\n",
              "    </tr>\n",
              "  </thead>\n",
              "  <tbody>\n",
              "    <tr>\n",
              "      <th>0</th>\n",
              "      <td>ocds-03ad3f-282786</td>\n",
              "      <td>ocds-03ad3f-282786-2017-01-26T15:55:24-04:00</td>\n",
              "      <td>compiled</td>\n",
              "      <td>2017-01-26T15:55:24-04:00</td>\n",
              "      <td>ocds-03ad3f-282786</td>\n",
              "      <td>282786-adquisicion-elementos-limpieza-ejercici...</td>\n",
              "      <td>tender</td>\n",
              "      <td>es</td>\n",
              "      <td>282786-adquisicion-elementos-limpieza-ejercici...</td>\n",
              "      <td>True</td>\n",
              "      <td>ADQUISICION DE ELEMENTOS DE LIMPIEZA PARA EL E...</td>\n",
              "      <td>complete</td>\n",
              "      <td>Con Convenio Finalizado</td>\n",
              "      <td>inPerson</td>\n",
              "      <td>Lugar entrega ofertas: EDIFICIO DNCP EE.UU.961...</td>\n",
              "      <td>2014-11-27T10:15:00-04:00</td>\n",
              "      <td>EDIFICIO DNCP EE.UU.961 C/ TTE. FARIÑA - 2DO P...</td>\n",
              "      <td>Restricciones: Inhabilidades previstas en el a...</td>\n",
              "      <td>EDIFICIO DNCP EE.UU.961 C/ TTE. FARIÑA - MESA ...</td>\n",
              "      <td>Elementos e insumos de limpieza</td>\n",
              "      <td>2014-10-14T08:05:52-04:00</td>\n",
              "      <td>2014-11-27T10:00:00-04:00</td>\n",
              "      <td>2014-10-14T08:05:52-04:00</td>\n",
              "      <td>2014-11-27T10:15:00-04:00</td>\n",
              "      <td>2015-03-06T00:00:00-04:00</td>\n",
              "      <td>2015-11-28T00:00:00-04:00</td>\n",
              "      <td>2014-11-20T16:00:00-04:00</td>\n",
              "      <td>2014-10-14T08:05:52-04:00</td>\n",
              "      <td>37.0</td>\n",
              "      <td>goods</td>\n",
              "      <td>open</td>\n",
              "      <td>Licitación Pública Nacional</td>\n",
              "      <td>DNCP-SICP-CODE-326</td>\n",
              "      <td>Dirección Nacional de Contrataciones Públicas ...</td>\n",
              "      <td>NaN</td>\n",
              "      <td>NaN</td>\n",
              "      <td>NaN</td>\n",
              "      <td>NaN</td>\n",
              "      <td>NaN</td>\n",
              "      <td>NaN</td>\n",
              "      <td>NaN</td>\n",
              "      <td>NaN</td>\n",
              "      <td>NaN</td>\n",
              "      <td>NaN</td>\n",
              "      <td>NaN</td>\n",
              "      <td>NaN</td>\n",
              "      <td>NaN</td>\n",
              "      <td>NaN</td>\n",
              "      <td>NaN</td>\n",
              "      <td>NaN</td>\n",
              "      <td>NaN</td>\n",
              "      <td>NaN</td>\n",
              "      <td>NaN</td>\n",
              "      <td>NaN</td>\n",
              "      <td>NaN</td>\n",
              "      <td>NaN</td>\n",
              "      <td>NaN</td>\n",
              "      <td>NaN</td>\n",
              "      <td>NaN</td>\n",
              "      <td>NaN</td>\n",
              "      <td>NaN</td>\n",
              "      <td>NaN</td>\n",
              "      <td>NaN</td>\n",
              "      <td>NaN</td>\n",
              "      <td>NaN</td>\n",
              "      <td>NaN</td>\n",
              "      <td>NaN</td>\n",
              "      <td>NaN</td>\n",
              "    </tr>\n",
              "    <tr>\n",
              "      <th>1</th>\n",
              "      <td>ocds-03ad3f-2016-476</td>\n",
              "      <td>476-2016-proyecto-construccion-operacion-mante...</td>\n",
              "      <td>compiled</td>\n",
              "      <td>2017-01-03T00:00:00-04:00</td>\n",
              "      <td>ocds-03ad3f-2016-476</td>\n",
              "      <td>NaN</td>\n",
              "      <td>tender</td>\n",
              "      <td>es</td>\n",
              "      <td>2017-476</td>\n",
              "      <td>NaN</td>\n",
              "      <td>Proyecto, Construcción, Operación y Mantenimie...</td>\n",
              "      <td>complete</td>\n",
              "      <td>Precalificado</td>\n",
              "      <td>inPerson</td>\n",
              "      <td>Lugar entrega ofertas: Según documento del lla...</td>\n",
              "      <td>2017-03-13T09:15:00-04:00</td>\n",
              "      <td>Según documento del llamado.</td>\n",
              "      <td>NaN</td>\n",
              "      <td>Según documento del llamado.</td>\n",
              "      <td>Construcción, Restauración, Reconstrucción o R...</td>\n",
              "      <td>NaN</td>\n",
              "      <td>2017-03-13T09:00:00-04:00</td>\n",
              "      <td>2017-01-03T00:00:00-04:00</td>\n",
              "      <td>NaN</td>\n",
              "      <td>NaN</td>\n",
              "      <td>NaN</td>\n",
              "      <td>2017-03-06T15:00:00-04:00</td>\n",
              "      <td>2017-01-03T00:00:00-04:00</td>\n",
              "      <td>NaN</td>\n",
              "      <td>works</td>\n",
              "      <td>selective</td>\n",
              "      <td>Licitación Pública Internacional</td>\n",
              "      <td>DNCP-SICP-CODE-167</td>\n",
              "      <td>Administración Nacional de Electricidad (ANDE)</td>\n",
              "      <td>69.0</td>\n",
              "      <td>works</td>\n",
              "      <td>NaN</td>\n",
              "      <td>NaN</td>\n",
              "      <td>NaN</td>\n",
              "      <td>NaN</td>\n",
              "      <td>NaN</td>\n",
              "      <td>NaN</td>\n",
              "      <td>NaN</td>\n",
              "      <td>NaN</td>\n",
              "      <td>NaN</td>\n",
              "      <td>NaN</td>\n",
              "      <td>NaN</td>\n",
              "      <td>NaN</td>\n",
              "      <td>NaN</td>\n",
              "      <td>NaN</td>\n",
              "      <td>NaN</td>\n",
              "      <td>NaN</td>\n",
              "      <td>NaN</td>\n",
              "      <td>NaN</td>\n",
              "      <td>NaN</td>\n",
              "      <td>NaN</td>\n",
              "      <td>NaN</td>\n",
              "      <td>NaN</td>\n",
              "      <td>NaN</td>\n",
              "      <td>NaN</td>\n",
              "      <td>NaN</td>\n",
              "      <td>NaN</td>\n",
              "      <td>NaN</td>\n",
              "      <td>NaN</td>\n",
              "      <td>NaN</td>\n",
              "      <td>NaN</td>\n",
              "      <td>NaN</td>\n",
              "      <td>NaN</td>\n",
              "    </tr>\n",
              "    <tr>\n",
              "      <th>2</th>\n",
              "      <td>ocds-03ad3f-302366-1</td>\n",
              "      <td>302366-ce-adquisicion-inmuebles-comunidad-san-...</td>\n",
              "      <td>compiled</td>\n",
              "      <td>2017-01-16T14:39:16-04:00</td>\n",
              "      <td>ocds-03ad3f-302366-1</td>\n",
              "      <td>NaN</td>\n",
              "      <td>tender</td>\n",
              "      <td>es</td>\n",
              "      <td>302366-ce-adquisicion-inmuebles-comunidad-san-...</td>\n",
              "      <td>NaN</td>\n",
              "      <td>CE ADQUISICION DE INMUEBLES PARA LA COMUNIDAD ...</td>\n",
              "      <td>complete</td>\n",
              "      <td>Adjudicada</td>\n",
              "      <td>NaN</td>\n",
              "      <td>NaN</td>\n",
              "      <td>NaN</td>\n",
              "      <td>NaN</td>\n",
              "      <td>NaN</td>\n",
              "      <td>NaN</td>\n",
              "      <td>Tierras - Adquisición y Locación de inmuebles....</td>\n",
              "      <td>2016-06-01T18:04:56-04:00</td>\n",
              "      <td>NaN</td>\n",
              "      <td>NaN</td>\n",
              "      <td>2016-08-08T09:30:00-04:00</td>\n",
              "      <td>NaN</td>\n",
              "      <td>NaN</td>\n",
              "      <td>NaN</td>\n",
              "      <td>NaN</td>\n",
              "      <td>NaN</td>\n",
              "      <td>services</td>\n",
              "      <td>direct</td>\n",
              "      <td>Contratación por Excepción</td>\n",
              "      <td>DNCP-SICP-CODE-20</td>\n",
              "      <td>Ministerio de Obras Públicas y Comunicaciones ...</td>\n",
              "      <td>NaN</td>\n",
              "      <td>goods</td>\n",
              "      <td>priceOnly</td>\n",
              "      <td>Por Lote</td>\n",
              "      <td>False</td>\n",
              "      <td>1.477704e+09</td>\n",
              "      <td>PYG</td>\n",
              "      <td>2016-12-31T00:00:00-04:00</td>\n",
              "      <td>3.0</td>\n",
              "      <td>DNCP-SICP-CODE-20</td>\n",
              "      <td>Ministerio de Obras Públicas y Comunicaciones ...</td>\n",
              "      <td>NaN</td>\n",
              "      <td>NaN</td>\n",
              "      <td>NaN</td>\n",
              "      <td>NaN</td>\n",
              "      <td>NaN</td>\n",
              "      <td>NaN</td>\n",
              "      <td>NaN</td>\n",
              "      <td>NaN</td>\n",
              "      <td>NaN</td>\n",
              "      <td>NaN</td>\n",
              "      <td>NaN</td>\n",
              "      <td>NaN</td>\n",
              "      <td>NaN</td>\n",
              "      <td>NaN</td>\n",
              "      <td>NaN</td>\n",
              "      <td>NaN</td>\n",
              "      <td>NaN</td>\n",
              "      <td>NaN</td>\n",
              "      <td>NaN</td>\n",
              "      <td>NaN</td>\n",
              "      <td>NaN</td>\n",
              "      <td>NaN</td>\n",
              "      <td>NaN</td>\n",
              "    </tr>\n",
              "    <tr>\n",
              "      <th>3</th>\n",
              "      <td>ocds-03ad3f-321645-1</td>\n",
              "      <td>321645-adquisicion-tubo-hormigon-1-1485790526....</td>\n",
              "      <td>compiled</td>\n",
              "      <td>2017-01-30T15:35:26-04:00</td>\n",
              "      <td>ocds-03ad3f-321645-1</td>\n",
              "      <td>NaN</td>\n",
              "      <td>tender</td>\n",
              "      <td>es</td>\n",
              "      <td>321645-adquisicion-tubo-hormigon-1</td>\n",
              "      <td>NaN</td>\n",
              "      <td>adquisicion de tubo de hormigon</td>\n",
              "      <td>complete</td>\n",
              "      <td>Adjudicada</td>\n",
              "      <td>NaN</td>\n",
              "      <td>NaN</td>\n",
              "      <td>NaN</td>\n",
              "      <td>NaN</td>\n",
              "      <td>NaN</td>\n",
              "      <td>NaN</td>\n",
              "      <td>Bienes - Minerales</td>\n",
              "      <td>2017-01-30T15:35:26-04:00</td>\n",
              "      <td>NaN</td>\n",
              "      <td>NaN</td>\n",
              "      <td>2017-01-20T08:30:00-04:00</td>\n",
              "      <td>NaN</td>\n",
              "      <td>NaN</td>\n",
              "      <td>NaN</td>\n",
              "      <td>NaN</td>\n",
              "      <td>NaN</td>\n",
              "      <td>goods</td>\n",
              "      <td>direct</td>\n",
              "      <td>Contratación por Excepción</td>\n",
              "      <td>DNCP-SICP-CODE-66</td>\n",
              "      <td>Municipalidad de Fernando de la Mora</td>\n",
              "      <td>NaN</td>\n",
              "      <td>NaN</td>\n",
              "      <td>priceOnly</td>\n",
              "      <td>Por Total</td>\n",
              "      <td>False</td>\n",
              "      <td>3.990000e+08</td>\n",
              "      <td>PYG</td>\n",
              "      <td>NaN</td>\n",
              "      <td>NaN</td>\n",
              "      <td>DNCP-SICP-CODE-66</td>\n",
              "      <td>Municipalidad de Fernando de la Mora</td>\n",
              "      <td>fonacide;urgencia_impostergable</td>\n",
              "      <td>NaN</td>\n",
              "      <td>NaN</td>\n",
              "      <td>NaN</td>\n",
              "      <td>NaN</td>\n",
              "      <td>NaN</td>\n",
              "      <td>NaN</td>\n",
              "      <td>NaN</td>\n",
              "      <td>NaN</td>\n",
              "      <td>NaN</td>\n",
              "      <td>NaN</td>\n",
              "      <td>NaN</td>\n",
              "      <td>NaN</td>\n",
              "      <td>NaN</td>\n",
              "      <td>NaN</td>\n",
              "      <td>NaN</td>\n",
              "      <td>NaN</td>\n",
              "      <td>NaN</td>\n",
              "      <td>NaN</td>\n",
              "      <td>NaN</td>\n",
              "      <td>NaN</td>\n",
              "      <td>ocds-03ad3f-321645-1</td>\n",
              "      <td></td>\n",
              "    </tr>\n",
              "    <tr>\n",
              "      <th>4</th>\n",
              "      <td>ocds-03ad3f-319892-1</td>\n",
              "      <td>319892-construccion-aula-muro-reparacion-techo...</td>\n",
              "      <td>compiled</td>\n",
              "      <td>2017-01-03T08:17:11-04:00</td>\n",
              "      <td>ocds-03ad3f-319892-1</td>\n",
              "      <td>NaN</td>\n",
              "      <td>tender</td>\n",
              "      <td>es</td>\n",
              "      <td>319892-construccion-aula-muro-reparacion-techo-1</td>\n",
              "      <td>NaN</td>\n",
              "      <td>CONSTRUCCIÓN DE AULA - MURO - REPARACIÓN DE TE...</td>\n",
              "      <td>cancelled</td>\n",
              "      <td>Anulada o Cancelada</td>\n",
              "      <td>inPerson</td>\n",
              "      <td>Lugar entrega ofertas: DIRECCION UOC || Lugar ...</td>\n",
              "      <td>2016-12-12T09:15:00-04:00</td>\n",
              "      <td>DIRECCION UOC</td>\n",
              "      <td>Restricciones: INHABILIDADES PREVISTAS EN EL A...</td>\n",
              "      <td>DIRECCION UOC</td>\n",
              "      <td>Obras - Construcción, Restauración, Reconstruc...</td>\n",
              "      <td>2016-11-29T07:31:18-04:00</td>\n",
              "      <td>2016-12-12T09:00:00-04:00</td>\n",
              "      <td>2016-11-29T07:31:18-04:00</td>\n",
              "      <td>2016-12-12T09:15:00-04:00</td>\n",
              "      <td>NaN</td>\n",
              "      <td>NaN</td>\n",
              "      <td>2016-12-06T11:30:00-04:00</td>\n",
              "      <td>2016-11-29T07:31:18-04:00</td>\n",
              "      <td>7.0</td>\n",
              "      <td>works</td>\n",
              "      <td>open</td>\n",
              "      <td>Concurso de Ofertas</td>\n",
              "      <td>DNCP-SICP-CODE-212</td>\n",
              "      <td>Municipalidad de San Ignacio</td>\n",
              "      <td>13.0</td>\n",
              "      <td>works</td>\n",
              "      <td>priceOnly</td>\n",
              "      <td>Por Lote</td>\n",
              "      <td>False</td>\n",
              "      <td>2.272611e+08</td>\n",
              "      <td>PYG</td>\n",
              "      <td>NaN</td>\n",
              "      <td>1.0</td>\n",
              "      <td>DNCP-SICP-CODE-212</td>\n",
              "      <td>Municipalidad de San Ignacio</td>\n",
              "      <td>fonacide</td>\n",
              "      <td>319892.0</td>\n",
              "      <td>2016-11-30T00:00:00-04:00</td>\n",
              "      <td>CONSTRUCCIÓN DE AULA - MURO - REPARACIÓN DE TE...</td>\n",
              "      <td>PYG</td>\n",
              "      <td>310000000.0</td>\n",
              "      <td>NaN</td>\n",
              "      <td>NaN</td>\n",
              "      <td>NaN</td>\n",
              "      <td>NaN</td>\n",
              "      <td>NaN</td>\n",
              "      <td>NaN</td>\n",
              "      <td>NaN</td>\n",
              "      <td>NaN</td>\n",
              "      <td>NaN</td>\n",
              "      <td>NaN</td>\n",
              "      <td>NaN</td>\n",
              "      <td>NaN</td>\n",
              "      <td>NaN</td>\n",
              "      <td>NaN</td>\n",
              "      <td>NaN</td>\n",
              "      <td>NaN</td>\n",
              "      <td>NaN</td>\n",
              "    </tr>\n",
              "  </tbody>\n",
              "</table>\n",
              "</div>\n",
              "      <button class=\"colab-df-convert\" onclick=\"convertToInteractive('df-46a7eca1-172f-44ef-9452-faf93f7cd528')\"\n",
              "              title=\"Convert this dataframe to an interactive table.\"\n",
              "              style=\"display:none;\">\n",
              "        \n",
              "  <svg xmlns=\"http://www.w3.org/2000/svg\" height=\"24px\"viewBox=\"0 0 24 24\"\n",
              "       width=\"24px\">\n",
              "    <path d=\"M0 0h24v24H0V0z\" fill=\"none\"/>\n",
              "    <path d=\"M18.56 5.44l.94 2.06.94-2.06 2.06-.94-2.06-.94-.94-2.06-.94 2.06-2.06.94zm-11 1L8.5 8.5l.94-2.06 2.06-.94-2.06-.94L8.5 2.5l-.94 2.06-2.06.94zm10 10l.94 2.06.94-2.06 2.06-.94-2.06-.94-.94-2.06-.94 2.06-2.06.94z\"/><path d=\"M17.41 7.96l-1.37-1.37c-.4-.4-.92-.59-1.43-.59-.52 0-1.04.2-1.43.59L10.3 9.45l-7.72 7.72c-.78.78-.78 2.05 0 2.83L4 21.41c.39.39.9.59 1.41.59.51 0 1.02-.2 1.41-.59l7.78-7.78 2.81-2.81c.8-.78.8-2.07 0-2.86zM5.41 20L4 18.59l7.72-7.72 1.47 1.35L5.41 20z\"/>\n",
              "  </svg>\n",
              "      </button>\n",
              "      \n",
              "  <style>\n",
              "    .colab-df-container {\n",
              "      display:flex;\n",
              "      flex-wrap:wrap;\n",
              "      gap: 12px;\n",
              "    }\n",
              "\n",
              "    .colab-df-convert {\n",
              "      background-color: #E8F0FE;\n",
              "      border: none;\n",
              "      border-radius: 50%;\n",
              "      cursor: pointer;\n",
              "      display: none;\n",
              "      fill: #1967D2;\n",
              "      height: 32px;\n",
              "      padding: 0 0 0 0;\n",
              "      width: 32px;\n",
              "    }\n",
              "\n",
              "    .colab-df-convert:hover {\n",
              "      background-color: #E2EBFA;\n",
              "      box-shadow: 0px 1px 2px rgba(60, 64, 67, 0.3), 0px 1px 3px 1px rgba(60, 64, 67, 0.15);\n",
              "      fill: #174EA6;\n",
              "    }\n",
              "\n",
              "    [theme=dark] .colab-df-convert {\n",
              "      background-color: #3B4455;\n",
              "      fill: #D2E3FC;\n",
              "    }\n",
              "\n",
              "    [theme=dark] .colab-df-convert:hover {\n",
              "      background-color: #434B5C;\n",
              "      box-shadow: 0px 1px 3px 1px rgba(0, 0, 0, 0.15);\n",
              "      filter: drop-shadow(0px 1px 2px rgba(0, 0, 0, 0.3));\n",
              "      fill: #FFFFFF;\n",
              "    }\n",
              "  </style>\n",
              "\n",
              "      <script>\n",
              "        const buttonEl =\n",
              "          document.querySelector('#df-46a7eca1-172f-44ef-9452-faf93f7cd528 button.colab-df-convert');\n",
              "        buttonEl.style.display =\n",
              "          google.colab.kernel.accessAllowed ? 'block' : 'none';\n",
              "\n",
              "        async function convertToInteractive(key) {\n",
              "          const element = document.querySelector('#df-46a7eca1-172f-44ef-9452-faf93f7cd528');\n",
              "          const dataTable =\n",
              "            await google.colab.kernel.invokeFunction('convertToInteractive',\n",
              "                                                     [key], {});\n",
              "          if (!dataTable) return;\n",
              "\n",
              "          const docLinkHtml = 'Like what you see? Visit the ' +\n",
              "            '<a target=\"_blank\" href=https://colab.research.google.com/notebooks/data_table.ipynb>data table notebook</a>'\n",
              "            + ' to learn more about interactive tables.';\n",
              "          element.innerHTML = '';\n",
              "          dataTable['output_type'] = 'display_data';\n",
              "          await google.colab.output.renderOutput(dataTable, element);\n",
              "          const docLink = document.createElement('div');\n",
              "          docLink.innerHTML = docLinkHtml;\n",
              "          element.appendChild(docLink);\n",
              "        }\n",
              "      </script>\n",
              "    </div>\n",
              "  </div>\n",
              "  "
            ]
          },
          "metadata": {},
          "execution_count": 22
        }
      ]
    },
    {
      "cell_type": "markdown",
      "source": [
        "# Gráficos útiles para estudiar los Nuevos datos"
      ],
      "metadata": {
        "id": "Jt3ksvjOIJRn"
      }
    },
    {
      "cell_type": "markdown",
      "source": [
        "importamos la librería matplotlib que sirve para graficar"
      ],
      "metadata": {
        "id": "BtCh6cIRJh63"
      }
    },
    {
      "cell_type": "code",
      "source": [
        "import matplotlib.pyplot as plt"
      ],
      "metadata": {
        "id": "iM9-9vxGIOiu"
      },
      "execution_count": 23,
      "outputs": []
    },
    {
      "cell_type": "markdown",
      "source": [
        "### Gráfico de banderas activadas según cantidad de activaciones"
      ],
      "metadata": {
        "id": "LrJ9wlnQJqRe"
      }
    },
    {
      "cell_type": "markdown",
      "source": [
        "**x**: nombre de la bandera\n",
        "\n",
        "**y**: cantidad de activaciones"
      ],
      "metadata": {
        "id": "ocHO74ibMqee"
      }
    },
    {
      "cell_type": "markdown",
      "source": [
        "primero listamos todas las banderas que fueron activadas en nuestro dataframe"
      ],
      "metadata": {
        "id": "Lm1--AZnODz4"
      }
    },
    {
      "cell_type": "code",
      "source": [
        "lista_banderas = banderas_records_merge['bandera'].explode().unique()"
      ],
      "metadata": {
        "id": "ULYZsJ3_J3zE"
      },
      "execution_count": 24,
      "outputs": []
    },
    {
      "cell_type": "markdown",
      "source": [
        "luego contamos cantidad de apariciones"
      ],
      "metadata": {
        "id": "qQM8xM4JPDo4"
      }
    },
    {
      "cell_type": "code",
      "source": [
        "lista_apariciones_band = banderas_records_merge['bandera'].explode().value_counts()"
      ],
      "metadata": {
        "id": "JVssD_-0OsIV"
      },
      "execution_count": 25,
      "outputs": []
    },
    {
      "cell_type": "code",
      "source": [
        "# all rows in the dataframe\n",
        "pd.set_option('display.max_rows', None)\n",
        "pd.DataFrame(list(zip(lista_banderas, lista_apariciones_band)),\n",
        "               columns =['Nombre', 'Cantidad'])"
      ],
      "metadata": {
        "id": "NXLoCTaUPCRh"
      },
      "execution_count": null,
      "outputs": []
    },
    {
      "cell_type": "code",
      "source": [
        "# plt.bar(lista_banderas, lista_apariciones_band)\n",
        "# len(list(lista_banderas))\n",
        "# len(list(lista_apariciones_band))\n",
        "# lista_apariciones_band\n",
        "plt.bar(lista_apariciones_band,lista_apariciones_band.keys())"
      ],
      "metadata": {
        "id": "cHZi4DuCZEUH"
      },
      "execution_count": null,
      "outputs": []
    },
    {
      "cell_type": "code",
      "source": [
        "banderas_records_merge['year'] = banderas_records_merge.apply(lambda x: x['compiledRelease/date'][0:7], axis=1)\n",
        "df_records_to_plot = banderas_records_merge.groupby(['year']).size()\n",
        "df_records_to_plot.plot(kind = 'line')"
      ],
      "metadata": {
        "id": "RMlblV1MdHMB",
        "outputId": "94c09547-dbe7-4a07-fb67-d33292eb545c",
        "colab": {
          "base_uri": "https://localhost:8080/",
          "height": 297
        }
      },
      "execution_count": 77,
      "outputs": [
        {
          "output_type": "execute_result",
          "data": {
            "text/plain": [
              "<matplotlib.axes._subplots.AxesSubplot at 0x7f17f21b1390>"
            ]
          },
          "metadata": {},
          "execution_count": 77
        },
        {
          "output_type": "display_data",
          "data": {
            "text/plain": [
              "<Figure size 432x288 with 1 Axes>"
            ],
            "image/png": "[encoded data removed]"
          },
          "metadata": {
            "needs_background": "light"
          }
        }
      ]
    },
    {
      "cell_type": "code",
      "source": [
        "banderas_complaints_merge = complaints_merge.merge(grouped_banderas, how='left',left_on='Open Contracting ID', right_on='compiledRelease/id')\n",
        "banderas_complaints_merge = banderas_complaints_merge.drop([7343, 7343])\n",
        "banderas_complaints_merge['year'] = banderas_complaints_merge.apply(lambda x: x['compiledRelease/complaints/0/date'][0:7], axis=1)\n",
        "df_to_plot = banderas_complaints_merge.groupby(['year']).size()\n",
        "df_to_plot.plot(kind = 'line')"
      ],
      "metadata": {
        "id": "39AxNEThW8Gq",
        "outputId": "8acdeee9-4f79-4e50-bd99-263d4b114347",
        "colab": {
          "base_uri": "https://localhost:8080/",
          "height": 297
        }
      },
      "execution_count": 73,
      "outputs": [
        {
          "output_type": "execute_result",
          "data": {
            "text/plain": [
              "<matplotlib.axes._subplots.AxesSubplot at 0x7f17f55b9c90>"
            ]
          },
          "metadata": {},
          "execution_count": 73
        },
        {
          "output_type": "display_data",
          "data": {
            "text/plain": [
              "<Figure size 432x288 with 1 Axes>"
            ],
            "image/png": "[encoded data removed]"
          },
          "metadata": {
            "needs_background": "light"
          }
        }
      ]
    },
    {
      "cell_type": "code",
      "source": [
        "banderas_merge_wo_na = banderas_records_merge.dropna(subset=['bandera'])\n",
        "banderas_merge_wo_na = banderas_merge_wo_na[banderas_merge_wo_na['bandera'] != '']\n",
        "banderas_merge_wo_na['year'] = banderas_merge_wo_na.apply(lambda x: x['compiledRelease/date'][0:7], axis=1)\n",
        "df_ban_wo_na_plot = banderas_merge_wo_na.groupby(['year']).size()\n",
        "df_ban_wo_na_plot.plot(kind = 'line')\n",
        "# banderas_merge_wo_na.shape"
      ],
      "metadata": {
        "id": "SkO5vbyse7vD",
        "outputId": "b525eb53-92ee-403a-933f-4c06fd2633bb",
        "colab": {
          "base_uri": "https://localhost:8080/",
          "height": 297
        }
      },
      "execution_count": 74,
      "outputs": [
        {
          "output_type": "execute_result",
          "data": {
            "text/plain": [
              "<matplotlib.axes._subplots.AxesSubplot at 0x7f17f61e8710>"
            ]
          },
          "metadata": {},
          "execution_count": 74
        },
        {
          "output_type": "display_data",
          "data": {
            "text/plain": [
              "<Figure size 432x288 with 1 Axes>"
            ],
            "image/png": "[encoded data removed]"
          },
          "metadata": {
            "needs_background": "light"
          }
        }
      ]
    }
  ]
}