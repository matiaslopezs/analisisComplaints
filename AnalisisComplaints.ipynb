{
  "nbformat": 4,
  "nbformat_minor": 0,
  "metadata": {
    "colab": {
      "name": "AnalisisComplaints.ipynb",
      "provenance": [],
      "include_colab_link": true
    },
    "kernelspec": {
      "name": "python3",
      "display_name": "Python 3"
    },
    "language_info": {
      "name": "python"
    }
  },
  "cells": [
    {
      "cell_type": "markdown",
      "metadata": {
        "id": "view-in-github",
        "colab_type": "text"
      },
      "source": [
        "<a href=\"https://colab.research.google.com/github/matiaslopezs/analisisComplaints/blob/main/AnalisisComplaints.ipynb\" target=\"_parent\"><img src=\"https://colab.research.google.com/assets/colab-badge.svg\" alt=\"Open In Colab\"/></a>"
      ]
    },
    {
      "cell_type": "code",
      "source": [
        "import pandas as pd"
      ],
      "metadata": {
        "id": "UzdwtKQ9vMmW"
      },
      "execution_count": 2,
      "outputs": []
    },
    {
      "cell_type": "markdown",
      "source": [
        "Cargamos los complains en un dataframe"
      ],
      "metadata": {
        "id": "PFJQOsuKweEw"
      }
    },
    {
      "cell_type": "code",
      "source": [
        "df_complains = pd.read_csv('ComplaintsUnificado.csv')"
      ],
      "metadata": {
        "id": "BoGwPfHwvjDP"
      },
      "execution_count": 4,
      "outputs": []
    },
    {
      "cell_type": "markdown",
      "source": [
        "Hacemos otro dataframe para todos los datos de los records"
      ],
      "metadata": {
        "id": "bTvnWG8Pwj9i"
      }
    },
    {
      "cell_type": "code",
      "source": [
        "df_records = pd.read_csv('RecordsUnificado.csv')"
      ],
      "metadata": {
        "colab": {
          "base_uri": "https://localhost:8080/"
        },
        "id": "2ryDMxPlwowO",
        "outputId": "3f4bf926-24a4-432d-e433-88ef87c846f7"
      },
      "execution_count": 6,
      "outputs": [
        {
          "output_type": "stream",
          "name": "stderr",
          "text": [
            "/usr/local/lib/python3.7/dist-packages/IPython/core/interactiveshell.py:2882: DtypeWarning: Columns (16,17,21,22,25,26,28,31,32,34,38,39,42,43,44,46,47,48,50,51,53,54,55,56,57,58,59,60,61,62,63,64,65) have mixed types.Specify dtype option on import or set low_memory=False.\n",
            "  exec(code_obj, self.user_global_ns, self.user_ns)\n"
          ]
        }
      ]
    }
  ]
}