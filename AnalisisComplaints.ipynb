{
  "nbformat": 4,
  "nbformat_minor": 0,
  "metadata": {
    "colab": {
      "name": "AnalisisComplaints.ipynb",
      "provenance": [],
      "collapsed_sections": [],
      "include_colab_link": true
    },
    "kernelspec": {
      "name": "python3",
      "display_name": "Python 3"
    },
    "language_info": {
      "name": "python"
    }
  },
  "cells": [
    {
      "cell_type": "markdown",
      "metadata": {
        "id": "view-in-github",
        "colab_type": "text"
      },
      "source": [
        "<a href=\"https://colab.research.google.com/github/matiaslopezs/analisisComplaints/blob/main/AnalisisComplaints.ipynb\" target=\"_parent\"><img src=\"https://colab.research.google.com/assets/colab-badge.svg\" alt=\"Open In Colab\"/></a>"
      ]
    },
    {
      "cell_type": "code",
      "source": [
        "import pandas as pd"
      ],
      "metadata": {
        "id": "UzdwtKQ9vMmW"
      },
      "execution_count": 5,
      "outputs": []
    },
    {
      "cell_type": "markdown",
      "source": [
        "Records dataframe"
      ],
      "metadata": {
        "id": "jv62LYGW7B7-"
      }
    },
    {
      "cell_type": "code",
      "source": [
        "!gdown --id 1PGecRbbl4KlQ9SWvuZ9ekH1cjy4fwTf2 "
      ],
      "metadata": {
        "colab": {
          "base_uri": "https://localhost:8080/"
        },
        "id": "z7hIycXw6PT4",
        "outputId": "a20c9071-dafd-4c6b-a8f3-4a9688e6b2e7"
      },
      "execution_count": 6,
      "outputs": [
        {
          "output_type": "stream",
          "name": "stdout",
          "text": [
            "/usr/local/lib/python3.7/dist-packages/gdown/cli.py:131: FutureWarning: Option `--id` was deprecated in version 4.3.1 and will be removed in 5.0. You don't need to pass it anymore to use a file ID.\n",
            "  category=FutureWarning,\n",
            "Downloading...\n",
            "From: https://drive.google.com/uc?id=1PGecRbbl4KlQ9SWvuZ9ekH1cjy4fwTf2\n",
            "To: /content/ComplaintsUnificado.csv\n",
            "100% 3.45M/3.45M [00:00<00:00, 166MB/s]\n"
          ]
        }
      ]
    },
    {
      "cell_type": "code",
      "source": [
        "!gdown --id 1Pu75kONToz6MiTxuDCoMRBRG3SBKBVO8\n",
        "!gdown --id 1DeJebO2PtHQ10CFzOS1fCNs2bCSZ5T7j\n",
        "!gdown --id 1CuDTzC-zJWG3bKnSO2DJ5shi2_-A1ys8\n",
        "!gdown --id 1FPNWBL6Ecgm4suqql_HZcrShzMReJvOe\n",
        "!gdown --id 1xUMO3uCn9sGjt9yQanZW7puiNr9n6HK0\n",
        "!gdown --id 1ODoDzFZKi5wCgkDFLLyxoKTESgy8ajET"
      ],
      "metadata": {
        "id": "AuyPahC_7GaV",
        "outputId": "b3821a84-364d-4918-eaff-2e5a6593b3b9",
        "colab": {
          "base_uri": "https://localhost:8080/"
        }
      },
      "execution_count": 7,
      "outputs": [
        {
          "output_type": "stream",
          "name": "stdout",
          "text": [
            "/usr/local/lib/python3.7/dist-packages/gdown/cli.py:131: FutureWarning: Option `--id` was deprecated in version 4.3.1 and will be removed in 5.0. You don't need to pass it anymore to use a file ID.\n",
            "  category=FutureWarning,\n",
            "Downloading...\n",
            "From: https://drive.google.com/uc?id=1Pu75kONToz6MiTxuDCoMRBRG3SBKBVO8\n",
            "To: /content/records2017.csv\n",
            "100% 15.5M/15.5M [00:00<00:00, 244MB/s]\n",
            "/usr/local/lib/python3.7/dist-packages/gdown/cli.py:131: FutureWarning: Option `--id` was deprecated in version 4.3.1 and will be removed in 5.0. You don't need to pass it anymore to use a file ID.\n",
            "  category=FutureWarning,\n",
            "Downloading...\n",
            "From: https://drive.google.com/uc?id=1DeJebO2PtHQ10CFzOS1fCNs2bCSZ5T7j\n",
            "To: /content/records2018.csv\n",
            "100% 15.0M/15.0M [00:00<00:00, 138MB/s]\n",
            "/usr/local/lib/python3.7/dist-packages/gdown/cli.py:131: FutureWarning: Option `--id` was deprecated in version 4.3.1 and will be removed in 5.0. You don't need to pass it anymore to use a file ID.\n",
            "  category=FutureWarning,\n",
            "Downloading...\n",
            "From: https://drive.google.com/uc?id=1CuDTzC-zJWG3bKnSO2DJ5shi2_-A1ys8\n",
            "To: /content/records2019.csv\n",
            "100% 34.9M/34.9M [00:00<00:00, 154MB/s] \n",
            "/usr/local/lib/python3.7/dist-packages/gdown/cli.py:131: FutureWarning: Option `--id` was deprecated in version 4.3.1 and will be removed in 5.0. You don't need to pass it anymore to use a file ID.\n",
            "  category=FutureWarning,\n",
            "Downloading...\n",
            "From: https://drive.google.com/uc?id=1FPNWBL6Ecgm4suqql_HZcrShzMReJvOe\n",
            "To: /content/records2020.csv\n",
            "100% 11.7M/11.7M [00:00<00:00, 188MB/s]\n",
            "/usr/local/lib/python3.7/dist-packages/gdown/cli.py:131: FutureWarning: Option `--id` was deprecated in version 4.3.1 and will be removed in 5.0. You don't need to pass it anymore to use a file ID.\n",
            "  category=FutureWarning,\n",
            "Downloading...\n",
            "From: https://drive.google.com/uc?id=1xUMO3uCn9sGjt9yQanZW7puiNr9n6HK0\n",
            "To: /content/records2021.csv\n",
            "100% 12.7M/12.7M [00:00<00:00, 102MB/s] \n",
            "/usr/local/lib/python3.7/dist-packages/gdown/cli.py:131: FutureWarning: Option `--id` was deprecated in version 4.3.1 and will be removed in 5.0. You don't need to pass it anymore to use a file ID.\n",
            "  category=FutureWarning,\n",
            "Downloading...\n",
            "From: https://drive.google.com/uc?id=1ODoDzFZKi5wCgkDFLLyxoKTESgy8ajET\n",
            "To: /content/records2022.csv\n",
            "100% 15.1M/15.1M [00:00<00:00, 141MB/s]\n"
          ]
        }
      ]
    },
    {
      "cell_type": "markdown",
      "source": [
        "Cargamos los complains y records por año en varios dataframes"
      ],
      "metadata": {
        "id": "PFJQOsuKweEw"
      }
    },
    {
      "cell_type": "code",
      "source": [
        "df_complains = pd.read_csv('ComplaintsUnificado.csv')\n",
        "df_records_2017 = pd.read_csv('records2017.csv')\n",
        "df_records_2018 = pd.read_csv('records2018.csv')\n",
        "df_records_2019 = pd.read_csv('records2019.csv')\n",
        "df_records_2020 = pd.read_csv('records2020.csv')\n",
        "df_records_2021 = pd.read_csv('records2021.csv')\n",
        "df_records_2022 = pd.read_csv('records2022.csv')"
      ],
      "metadata": {
        "id": "BoGwPfHwvjDP",
        "colab": {
          "base_uri": "https://localhost:8080/"
        },
        "outputId": "b81b02e3-784e-4b67-b0e6-01f78ef85377"
      },
      "execution_count": 8,
      "outputs": [
        {
          "output_type": "stream",
          "name": "stderr",
          "text": [
            "/usr/local/lib/python3.7/dist-packages/IPython/core/interactiveshell.py:2882: DtypeWarning: Columns (60,61,62,63) have mixed types.Specify dtype option on import or set low_memory=False.\n",
            "  exec(code_obj, self.user_global_ns, self.user_ns)\n"
          ]
        }
      ]
    },
    {
      "cell_type": "markdown",
      "source": [
        "Unimos los dataframes de records y mergeamos los datos de complaints"
      ],
      "metadata": {
        "id": "bTvnWG8Pwj9i"
      }
    },
    {
      "cell_type": "code",
      "source": [
        "df_records = pd.concat([df_records_2017, df_records_2018,df_records_2019, df_records_2020, df_records_2021, df_records_2022], axis=0, ignore_index=True)\n",
        "complaints_merge = pd.concat([df_complains, df_records], axis=1, join=\"inner\")"
      ],
      "metadata": {
        "id": "2ryDMxPlwowO"
      },
      "execution_count": 18,
      "outputs": []
    }
  ]
}